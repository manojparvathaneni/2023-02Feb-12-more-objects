{
 "cells": [
  {
   "cell_type": "markdown",
   "metadata": {},
   "source": [
    "# Agenda\n",
    "\n",
    "1. Recap: The story so far\n",
    "2. Magic methods\n",
    "    - What are they?\n",
    "    - How do we call them?\n",
    "    - How do we define them?\n",
    "    - Why would we want them?\n",
    "3. Class attributes\n",
    "    - What are they?\n",
    "    - How do we define them?\n",
    "    - Why would we want them?\n",
    "4. ICPO rule for attribute lookup\n",
    "5. Inheritance\n",
    "    - What inheritance does\n",
    "    - Why we would want to use it\n",
    "    - How it is implemented in Python\n",
    "6. Three paradigms of method inheritance\n",
    "    - Do nothing\n",
    "    - Replace the parent method\n",
    "    - Combine the new method with the parent\n",
    "7. `object`, the top of our hierarchy \n",
    "8. Using and designing with objects\n",
    "    - How do I attack a problem using classes and objects?\n",
    "    - When are objects not an appropriate/best solution?"
   ]
  },
  {
   "cell_type": "markdown",
   "metadata": {},
   "source": [
    "# Magic commands vs. magic methods\n",
    "\n",
    "In Jupyter, we have some things we call \"magic commands.\" These are commands that aren't passed to Python, but rather are passed to Jupyter. They all start with `%`, because that's not a legal character in Python function and variable names.  \n",
    "\n",
    "It's true that in my online courses, I've been telling people to say `%pylab inline`, because that was a really easy way to do things... I recently discovered that this is now deprecated, and you should instead say `%matplotlib inline`.\n",
    "\n",
    "This has **NOTHING** to do with magic methods, which are special methods that we define on our classes, in order to get some desired behavior."
   ]
  },
  {
   "cell_type": "markdown",
   "metadata": {},
   "source": [
    "# Recap\n",
    "\n",
    "When we program with objects, we're creating new data types. Each new data type allows us to think at a higher level. The higher-level thinking is expressed with the following jargon:\n",
    "\n",
    "- Our new type is called a **class**\n",
    "- Every new object of this type is called an **instance**\n",
    "- The functions that we can run on our instances are called **methods**\n",
    "- The storage that we have on each instance is called an **attribute**."
   ]
  },
  {
   "cell_type": "code",
   "execution_count": null,
   "metadata": {},
   "outputs": [],
   "source": [
    "class Person:                            # declar\n",
    "    def __init__(self, first, last):\n",
    "        self.first = first\n",
    "        self.last = last\n",
    "        \n",
    "    def fullname(self):\n",
    "        return f'{self.first} {self.last}'\n",
    "        \n",
    "    "
   ]
  }
 ],
 "metadata": {
  "kernelspec": {
   "display_name": "Python 3 (ipykernel)",
   "language": "python",
   "name": "python3"
  },
  "language_info": {
   "codemirror_mode": {
    "name": "ipython",
    "version": 3
   },
   "file_extension": ".py",
   "mimetype": "text/x-python",
   "name": "python",
   "nbconvert_exporter": "python",
   "pygments_lexer": "ipython3",
   "version": "3.11.1"
  }
 },
 "nbformat": 4,
 "nbformat_minor": 4
}
