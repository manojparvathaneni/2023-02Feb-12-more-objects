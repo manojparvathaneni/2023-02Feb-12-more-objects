{
 "cells": [
  {
   "cell_type": "markdown",
   "metadata": {},
   "source": [
    "# Agenda\n",
    "\n",
    "1. Recap: The story so far\n",
    "2. Magic methods\n",
    "    - What are they?\n",
    "    - How do we call them?\n",
    "    - How do we define them?\n",
    "    - Why would we want them?\n",
    "3. Class attributes\n",
    "    - What are they?\n",
    "    - How do we define them?\n",
    "    - Why would we want them?\n",
    "4. ICPO rule for attribute lookup\n",
    "5. Inheritance\n",
    "    - What inheritance does\n",
    "    - Why we would want to use it\n",
    "    - How it is implemented in Python\n",
    "6. Three paradigms of method inheritance\n",
    "    - Do nothing\n",
    "    - Replace the parent method\n",
    "    - Combine the new method with the parent\n",
    "7. `object`, the top of our hierarchy \n",
    "8. Using and designing with objects\n",
    "    - How do I attack a problem using classes and objects?\n",
    "    - When are objects not an appropriate/best solution?"
   ]
  },
  {
   "cell_type": "markdown",
   "metadata": {},
   "source": [
    "# Magic commands vs. magic methods\n",
    "\n",
    "In Jupyter, we have some things we call \"magic commands.\" These are commands that aren't passed to Python, but rather are passed to Jupyter. They all start with `%`, because that's not a legal character in Python function and variable names.  \n",
    "\n",
    "It's true that in my online courses, I've been telling people to say `%pylab inline`, because that was a really easy way to do things... I recently discovered that this is now deprecated, and you should instead say `%matplotlib inline`.\n",
    "\n",
    "This has **NOTHING** to do with magic methods, which are special methods that we define on our classes, in order to get some desired behavior."
   ]
  },
  {
   "cell_type": "markdown",
   "metadata": {},
   "source": [
    "# Recap\n",
    "\n",
    "When we program with objects, we're creating new data types. Each new data type allows us to think at a higher level. The higher-level thinking is expressed with the following jargon:\n",
    "\n",
    "- Our new type is called a **class**\n",
    "- Every new object of this type is called an **instance**\n",
    "- The functions that we can run on our instances are called **methods**\n",
    "- The storage that we have on each instance is called an **attribute**."
   ]
  },
  {
   "cell_type": "code",
   "execution_count": 1,
   "metadata": {},
   "outputs": [
    {
     "data": {
      "text/plain": [
       "__main__.Person"
      ]
     },
     "execution_count": 1,
     "metadata": {},
     "output_type": "execute_result"
    }
   ],
   "source": [
    "class Person:                            # declaring/defining the Person class\n",
    "    def __init__(self, first, last):     # initialization method, taking self (our instance)\n",
    "                                         #   plus two additional arguments, assigned to first and last\n",
    "        self.first = first               # assign the value of the first parameter to the self.first attribute\n",
    "        self.last = last                 # assign the value of the last parameter to the self.last attribute\n",
    "        \n",
    "    def fullname(self):                      # method definition: self contains the instance\n",
    "        return f'{self.first} {self.last}'   # our method retrieves self.first and self.last\n",
    "        \n",
    "p = Person('Reuven', 'Lerner')           # this creates a new instance, then passes that to __init__\n",
    "\n",
    "type(p)   # what kind of object is p?"
   ]
  },
  {
   "cell_type": "code",
   "execution_count": 2,
   "metadata": {},
   "outputs": [
    {
     "data": {
      "text/plain": [
       "'Reuven'"
      ]
     },
     "execution_count": 2,
     "metadata": {},
     "output_type": "execute_result"
    }
   ],
   "source": [
    "p.first   # what is the first attribute on p?"
   ]
  },
  {
   "cell_type": "code",
   "execution_count": 3,
   "metadata": {},
   "outputs": [
    {
     "data": {
      "text/plain": [
       "'Lerner'"
      ]
     },
     "execution_count": 3,
     "metadata": {},
     "output_type": "execute_result"
    }
   ],
   "source": [
    "p.last    # what is the last attribute on p?"
   ]
  },
  {
   "cell_type": "code",
   "execution_count": 4,
   "metadata": {},
   "outputs": [
    {
     "data": {
      "text/plain": [
       "'Reuven Lerner'"
      ]
     },
     "execution_count": 4,
     "metadata": {},
     "output_type": "execute_result"
    }
   ],
   "source": [
    "p.fullname()   # I need parentheses, because this is a method call"
   ]
  },
  {
   "cell_type": "markdown",
   "metadata": {},
   "source": [
    "# Exercise: Cellphone call\n",
    "\n",
    "1. Define a new class, `Cellphone`, whose instances will have three attributes: \n",
    "    - Make\n",
    "    - Model\n",
    "    - Number\n",
    "2. Define a `call` method on the `Cellphone` class.  When you call a phone, it should return a string saying, \"Now calling NUMBER\".\n",
    "\n",
    "I should be able to say:\n",
    "\n",
    "```python\n",
    "p1 = Cellphone('Samsung', 'S20', '12345')\n",
    "print(p1.make)   # Samsung\n",
    "print(p1.model)  # S20\n",
    "print(p1.call()) # Calling 12345\n",
    "               \n",
    "p2 = Cellphone('Apple', 'iPhone 14', '67890')\n",
    "print(p2.make)   # Apple\n",
    "print(p2.model)  # iPhone 14\n",
    "print(p2.call()) # Calling 67890\n",
    "```"
   ]
  },
  {
   "cell_type": "markdown",
   "metadata": {},
   "source": [
    "# Naming conventions in Python\n",
    "\n",
    "- Variables, functions, and other \"identifiers\" are normally \"snake case\" -- meaning, all lower-case letters, with `_` (underscore) between words.\n",
    "- Class names are CamelCase -- meaning, an initial capital letter and capitals starting new words in the middle. Class names should be singular, not plural.\n",
    "- `ALL_CAPS` are for constants, even though Python doesn't really have constants\n",
    "- `_` at the start of a name means that it's to be treated as private, even though Python doesn't have private\n",
    "- `__` (double underscore) at the start and end of a name is special, or \"magic,\" leading to the name \"magic methods.\" You can do this whenever you want, but please don't!"
   ]
  },
  {
   "cell_type": "code",
   "execution_count": 5,
   "metadata": {},
   "outputs": [],
   "source": [
    "class Cellphone:\n",
    "\n",
    "    def __init__(self, make, model, number):\n",
    "        # what do we do in __init__? Assign to our attributes\n",
    "        self.make = make\n",
    "        self.model = model\n",
    "        self.number = number\n",
    "        \n",
    "    def call(self):\n",
    "        return f'Calling {self.number}'"
   ]
  },
  {
   "cell_type": "code",
   "execution_count": 6,
   "metadata": {},
   "outputs": [
    {
     "name": "stdout",
     "output_type": "stream",
     "text": [
      "Samsung\n",
      "S20\n",
      "Calling 12345\n",
      "Apple\n",
      "iPhone 14\n",
      "Calling 67890\n"
     ]
    }
   ],
   "source": [
    "p1 = Cellphone('Samsung', 'S20', '12345')\n",
    "print(p1.make)   # Samsung\n",
    "print(p1.model)  # S20\n",
    "print(p1.call()) # Calling 12345\n",
    "\n",
    "p2 = Cellphone('Apple', 'iPhone 14', '67890')\n",
    "print(p2.make)   # Apple\n",
    "print(p2.model)  # iPhone 14\n",
    "print(p2.call()) # Calling 67890"
   ]
  },
  {
   "cell_type": "markdown",
   "metadata": {},
   "source": [
    "# Magic methods\n",
    "\n",
    "What happens if I print my instance of `Person`?"
   ]
  },
  {
   "cell_type": "code",
   "execution_count": 8,
   "metadata": {},
   "outputs": [
    {
     "name": "stdout",
     "output_type": "stream",
     "text": [
      "<__main__.Person object at 0x110bdff10>\n"
     ]
    }
   ],
   "source": [
    "print(p)"
   ]
  },
  {
   "cell_type": "code",
   "execution_count": 9,
   "metadata": {},
   "outputs": [
    {
     "data": {
      "text/plain": [
       "{'first': 'Reuven', 'last': 'Lerner'}"
      ]
     },
     "execution_count": 9,
     "metadata": {},
     "output_type": "execute_result"
    }
   ],
   "source": [
    "vars(p)   # what are the attributes on our Person object?"
   ]
  },
  {
   "cell_type": "markdown",
   "metadata": {},
   "source": [
    "We can change how our objects look when they're printed by defining a special method, a *magic* method.\n",
    "\n",
    "Magic methods are also known as \"dunder methods,\" because their names all start and end with a \"double underscore.\" \n",
    "\n",
    "Typically, you do not want to be invoking magic methods on your own. Rather, you define them, and then expect Python the invoke them at appropriate times.\n",
    "\n",
    "For example, when we `print` an object, the `__str__` method is invoked.  If we haven't defined it, then Python has a default version that we invoked, instead.\n",
    "\n",
    "If we want to define our own version of `__str__`:\n",
    "- It should only have one parameter, `self`\n",
    "- It should return a string\n",
    "\n",
    "Beyond those two rules, `__str__` can do as much or as little as it wants."
   ]
  },
  {
   "cell_type": "code",
   "execution_count": 10,
   "metadata": {},
   "outputs": [],
   "source": [
    "# p == our Person, (me!)\n",
    "# p1 and p2 == our Cellphones"
   ]
  },
  {
   "cell_type": "code",
   "execution_count": 14,
   "metadata": {},
   "outputs": [
    {
     "data": {
      "text/plain": [
       "__main__.Person"
      ]
     },
     "execution_count": 14,
     "metadata": {},
     "output_type": "execute_result"
    }
   ],
   "source": [
    "class Person:                            # declaring/defining the Person class\n",
    "    def __init__(self, first, last):     # initialization method, taking self (our instance)\n",
    "                                         #   plus two additional arguments, assigned to first and last\n",
    "        self.first = first               # assign the value of the first parameter to the self.first attribute\n",
    "        self.last = last                 # assign the value of the last parameter to the self.last attribute\n",
    "        \n",
    "    def fullname(self):                      # method definition: self contains the instance\n",
    "        return f'{self.first} {self.last}'   # our method retrieves self.first and self.last\n",
    "    \n",
    "    def __str__(self):                   # this is invoked when we run str() on our object, or print()\n",
    "        return f'Person with a name {self.first} {self.last}'\n",
    "        \n",
    "one_person = Person('Reuven', 'Lerner')           # this creates a new instance, then passes that to __init__\n",
    "\n",
    "type(one_person)   # what kind of object is p?"
   ]
  },
  {
   "cell_type": "code",
   "execution_count": 15,
   "metadata": {},
   "outputs": [
    {
     "name": "stdout",
     "output_type": "stream",
     "text": [
      "Person with a name Reuven Lerner\n"
     ]
    }
   ],
   "source": [
    "print(one_person)"
   ]
  },
  {
   "cell_type": "markdown",
   "metadata": {},
   "source": [
    "# When do I call `__str__`?\n",
    "\n",
    "**NEVER**. You let Python call it for you, via `str` or `print` or a variety of other ways.\n",
    "\n",
    "# What other magic methods exist?\n",
    "\n",
    "One example: `__len__`, which is invoked when we call `len` on an object."
   ]
  },
  {
   "cell_type": "code",
   "execution_count": 16,
   "metadata": {},
   "outputs": [
    {
     "data": {
      "text/plain": [
       "5"
      ]
     },
     "execution_count": 16,
     "metadata": {},
     "output_type": "execute_result"
    }
   ],
   "source": [
    "len('abcde')   # call len on 'abcde', and should get 5"
   ]
  },
  {
   "cell_type": "code",
   "execution_count": 19,
   "metadata": {},
   "outputs": [
    {
     "ename": "TypeError",
     "evalue": "object of type 'Person' has no len()",
     "output_type": "error",
     "traceback": [
      "\u001b[0;31m---------------------------------------------------------------------------\u001b[0m",
      "\u001b[0;31mTypeError\u001b[0m                                 Traceback (most recent call last)",
      "Cell \u001b[0;32mIn [19], line 1\u001b[0m\n\u001b[0;32m----> 1\u001b[0m \u001b[38;5;28;43mlen\u001b[39;49m\u001b[43m(\u001b[49m\u001b[43mone_person\u001b[49m\u001b[43m)\u001b[49m   \u001b[38;5;66;03m# what will we get now?\u001b[39;00m\n",
      "\u001b[0;31mTypeError\u001b[0m: object of type 'Person' has no len()"
     ]
    }
   ],
   "source": [
    "len(one_person)   # what will we get now?"
   ]
  },
  {
   "cell_type": "markdown",
   "metadata": {},
   "source": [
    "The `len` builtin function, when called on an object, actually just looks for the `__len__` magic method.\n",
    "\n",
    "- If `__len__` exists on the object, then it is called, and the `len` function returns its value\n",
    "- If `__len__` does *not* exist, then we get an error.\n",
    "\n",
    "You should **NOT** ever call `__len__` directly.\n",
    "\n",
    "What should `__len__` return? It must return an integer. But what does that integer represent? That's up to you. Not every class has a reason to implement `__len__`."
   ]
  },
  {
   "cell_type": "code",
   "execution_count": 18,
   "metadata": {
    "scrolled": true
   },
   "outputs": [
    {
     "ename": "TypeError",
     "evalue": "object of type 'int' has no len()",
     "output_type": "error",
     "traceback": [
      "\u001b[0;31m---------------------------------------------------------------------------\u001b[0m",
      "\u001b[0;31mTypeError\u001b[0m                                 Traceback (most recent call last)",
      "Cell \u001b[0;32mIn [18], line 1\u001b[0m\n\u001b[0;32m----> 1\u001b[0m \u001b[38;5;28;43mlen\u001b[39;49m\u001b[43m(\u001b[49m\u001b[38;5;241;43m3\u001b[39;49m\u001b[43m)\u001b[49m  \n",
      "\u001b[0;31mTypeError\u001b[0m: object of type 'int' has no len()"
     ]
    }
   ],
   "source": [
    "len(3)  "
   ]
  },
  {
   "cell_type": "markdown",
   "metadata": {},
   "source": [
    "# Real uses of `__len__`\n",
    "\n",
    "1. A `Company` object whose len returns the number employees\n",
    "2. A `Network` object whose len returns the number of nodes on that network\n",
    "3. A `PrintQueue` object whose len returns the number of items waiting to be printed\n"
   ]
  },
  {
   "cell_type": "markdown",
   "metadata": {},
   "source": [
    "# Exercise: Magic cellphone methods\n",
    "\n",
    "1. Define `__str__` on `Cellphone`, so that it returns a string with all of the relevant information about the phone: Make, model, and number.\n",
    "2. Invoke it on each instance, to see that it works.\n",
    "3. Define `__len__` on `Cellphone`, and here, return the number of digits in the phone number. This is technically just fine, but obviously absurd as an actual implementation.\n",
    "\n"
   ]
  },
  {
   "cell_type": "markdown",
   "metadata": {},
   "source": [
    "# `_` (one underscore) vs. \"dunder\"\n",
    "\n",
    "If the method name starts with `_`, then it's considered private, that others shouldn't touch/use it. There is zero enforcement of this from Python. It's a convention.\n",
    "\n",
    "If the method name starts and ends with `__` (two underscores), then it's considered to be a \"dunder method,\" or a \"magic method.\" You can define any method you want to be a dunder method *but* only those that Python is looking for will actually have the magic effect. Typically, you don't want to invoke these methods on your own, but rather let Python do it for you."
   ]
  },
  {
   "cell_type": "code",
   "execution_count": null,
   "metadata": {},
   "outputs": [],
   "source": [
    "# if we were using tuples, we would say:\n",
    "\n",
    "p1 = ('Samsung', 'S20', '123456' )\n",
    "\n",
    "# but we're using objects, so we'll instead say\n",
    "\n",
    "p1 = Cellphone('Samsung', 'S20', '123456' )   # so these are arguments to the call to Cellphone"
   ]
  },
  {
   "cell_type": "markdown",
   "metadata": {},
   "source": [
    "# When do we use a single `_`?\n",
    "\n",
    "There are a few uses:\n",
    "\n",
    "- If you have an attribute that you don't want people to read from or write to, start its name with `_`. For example: `_password`, or `_crypto_key`, or something else that maybe people can read from, but you definitely want to discourage them from writing to.\n",
    "\n",
    "- If you have a method that you might change in the future, and you don't want people to use lest they have problems when they upgrade, you can start its name with `_`.\n",
    "\n",
    "- You can also use a `_` by itself as a variable name for a temporary variable.  I personally almost never do this, but many people do."
   ]
  },
  {
   "cell_type": "markdown",
   "metadata": {},
   "source": [
    "You defined  the method `__init`  with two underscores at the start, but none at the end.\n",
    "\n",
    "The dunder methods all have double underscores on **BOTH** sides of the name."
   ]
  },
  {
   "cell_type": "code",
   "execution_count": 24,
   "metadata": {},
   "outputs": [],
   "source": [
    "class Cellphone:\n",
    "\n",
    "    def __init__(self, make, model, number):\n",
    "        self.make = make\n",
    "        self.model = model\n",
    "        self.number = number\n",
    "        \n",
    "    def call(self):\n",
    "        return f'Calling {self.number}'\n",
    "    \n",
    "    def __str__(self):  # __str__ only takes self, and returns a string\n",
    "        return f'{self.make} {self.model}: {self.number}'    \n",
    "    \n",
    "    def __len__(self):\n",
    "        return len(self.number)"
   ]
  },
  {
   "cell_type": "code",
   "execution_count": 25,
   "metadata": {},
   "outputs": [
    {
     "name": "stdout",
     "output_type": "stream",
     "text": [
      "Samsung\n",
      "S20\n",
      "Calling 12345\n",
      "Apple\n",
      "iPhone 14\n",
      "Calling 67890\n"
     ]
    }
   ],
   "source": [
    "cellphone1 = Cellphone('Samsung', 'S20', '12345')\n",
    "print(cellphone1.make)   # Samsung\n",
    "print(cellphone1.model)  # S20\n",
    "print(cellphone1.call()) # Calling 12345\n",
    "\n",
    "cellphone2 = Cellphone('Apple', 'iPhone 14', '67890')\n",
    "print(cellphone2.make)   # Apple\n",
    "print(cellphone2.model)  # iPhone 14\n",
    "print(cellphone2.call()) # Calling 67890"
   ]
  },
  {
   "cell_type": "code",
   "execution_count": 26,
   "metadata": {},
   "outputs": [
    {
     "name": "stdout",
     "output_type": "stream",
     "text": [
      "Samsung S20: 12345\n"
     ]
    }
   ],
   "source": [
    "print(cellphone1)"
   ]
  },
  {
   "cell_type": "code",
   "execution_count": 27,
   "metadata": {},
   "outputs": [
    {
     "name": "stdout",
     "output_type": "stream",
     "text": [
      "Apple iPhone 14: 67890\n"
     ]
    }
   ],
   "source": [
    "print(cellphone2)"
   ]
  },
  {
   "cell_type": "code",
   "execution_count": 28,
   "metadata": {},
   "outputs": [
    {
     "data": {
      "text/plain": [
       "5"
      ]
     },
     "execution_count": 28,
     "metadata": {},
     "output_type": "execute_result"
    }
   ],
   "source": [
    "len(cellphone1)  # how long is this phone's number?"
   ]
  },
  {
   "cell_type": "code",
   "execution_count": 29,
   "metadata": {},
   "outputs": [
    {
     "data": {
      "text/plain": [
       "5"
      ]
     },
     "execution_count": 29,
     "metadata": {},
     "output_type": "execute_result"
    }
   ],
   "source": [
    "len(cellphone2)"
   ]
  },
  {
   "cell_type": "code",
   "execution_count": 30,
   "metadata": {},
   "outputs": [
    {
     "data": {
      "text/plain": [
       "False"
      ]
     },
     "execution_count": 30,
     "metadata": {},
     "output_type": "execute_result"
    }
   ],
   "source": [
    "# what if I want to know if two cellphones are the same?\n",
    "\n",
    "cellphone1 == cellphone2"
   ]
  },
  {
   "cell_type": "code",
   "execution_count": 31,
   "metadata": {},
   "outputs": [
    {
     "name": "stdout",
     "output_type": "stream",
     "text": [
      "Apple\n",
      "iPhone 14\n",
      "Calling 67890\n"
     ]
    }
   ],
   "source": [
    "# cellphone 3 will be *exactly* the same as cellphone2 -- same make, model, and number\n",
    "\n",
    "cellphone3 = Cellphone('Apple', 'iPhone 14', '67890')\n",
    "print(cellphone3.make)   # Apple\n",
    "print(cellphone3.model)  # iPhone 14\n",
    "print(cellphone3.call()) # Calling 67890"
   ]
  },
  {
   "cell_type": "code",
   "execution_count": 33,
   "metadata": {},
   "outputs": [
    {
     "data": {
      "text/plain": [
       "False"
      ]
     },
     "execution_count": 33,
     "metadata": {},
     "output_type": "execute_result"
    }
   ],
   "source": [
    "# are these two phones considered equal?\n",
    "cellphone2 == cellphone3"
   ]
  },
  {
   "cell_type": "code",
   "execution_count": 34,
   "metadata": {},
   "outputs": [],
   "source": [
    "# why not? Because when we use ==, a magic method is invoked\n",
    "# it's the __eq__ method, which takes *two* arguments\n",
    "# - self is the thing on the left\n",
    "# - the 2nd argument (other) is the thing on the right\n",
    "\n",
    "class Cellphone:\n",
    "\n",
    "    def __init__(self, make, model, number):\n",
    "        self.make = make\n",
    "        self.model = model\n",
    "        self.number = number\n",
    "        \n",
    "    def call(self):\n",
    "        return f'Calling {self.number}'\n",
    "    \n",
    "    # we get to decide what str() does on a cellphone\n",
    "    def __str__(self):  # __str__ only takes self, and returns a string\n",
    "        return f'{self.make} {self.model}: {self.number}'    \n",
    "    \n",
    "    # we get to decide what len() does on a cellphone\n",
    "    def __len__(self):\n",
    "        return len(self.number)\n",
    "    \n",
    "    # we get to decide what == does when given two cellphones\n",
    "    def __eq__(self, other):\n",
    "        return vars(self) == vars(other)   # is the dict of attributes for self the same as the dict for other?"
   ]
  },
  {
   "cell_type": "code",
   "execution_count": 35,
   "metadata": {},
   "outputs": [],
   "source": [
    "cellphone1 = Cellphone('Samsung', 'S20', '12345')\n",
    "cellphone2 = Cellphone('Apple', 'iPhone 14', '67890')\n",
    "cellphone3 = Cellphone('Apple', 'iPhone 14', '67890')"
   ]
  },
  {
   "cell_type": "code",
   "execution_count": 36,
   "metadata": {},
   "outputs": [
    {
     "data": {
      "text/plain": [
       "False"
      ]
     },
     "execution_count": 36,
     "metadata": {},
     "output_type": "execute_result"
    }
   ],
   "source": [
    "cellphone1 == cellphone2"
   ]
  },
  {
   "cell_type": "code",
   "execution_count": 37,
   "metadata": {},
   "outputs": [
    {
     "data": {
      "text/plain": [
       "True"
      ]
     },
     "execution_count": 37,
     "metadata": {},
     "output_type": "execute_result"
    }
   ],
   "source": [
    "cellphone2 == cellphone3"
   ]
  },
  {
   "cell_type": "markdown",
   "metadata": {},
   "source": [
    "Magic methods allow us to create objects that fit into the existing idioms of Python. We want to use `==` to compare two different objects, and `__eq__`, if defined, lets us do that.\n",
    "\n",
    "There are dozens of magic methods, each associated with a different type of functionality in Python:\n",
    "\n",
    "- If I want my object to handle `[]`, I can define `__getitem__`\n",
    "- If I want my object to handle `<`, I can define `__lt__`\n",
    "- If want my object to know how to behave inside of a `with` block, I can define `__enter__`\n",
    "\n",
    "There are tons of magic methods, and each is invoked automatically by Python behind the scenes.\n",
    "\n",
    "You don't have to define them, but the more that are defined, the more your classes will feel more Pythonic."
   ]
  },
  {
   "cell_type": "markdown",
   "metadata": {},
   "source": [
    "My Euro Python talk, How to sort anything: https://www.youtube.com/watch?v=Z3c2LvEJeu0"
   ]
  },
  {
   "cell_type": "markdown",
   "metadata": {},
   "source": [
    "# Next up\n",
    "\n",
    "- Class attributes\n",
    "- ICPO -- how attributes are searched for in Python\n",
    "\n",
    "Return at :44\n",
    "\n",
    "## START RECORDING"
   ]
  },
  {
   "cell_type": "markdown",
   "metadata": {},
   "source": [
    "Magic methods: https://rszalski.github.io/magicmethods/"
   ]
  },
  {
   "cell_type": "code",
   "execution_count": 38,
   "metadata": {},
   "outputs": [],
   "source": [
    "# could I define __reuven__? Yeah, but Python won't ever invoke it... which is the point of a magic method"
   ]
  },
  {
   "cell_type": "markdown",
   "metadata": {},
   "source": [
    "# Class attributes\n",
    "\n",
    "We've seen that when we want to store information on an object, we do it with an attribute. Names, models, scoops of ice cream... all of these are stored in attributes, which always come after a `.` on the object.\n",
    "\n",
    "If I want to store 5 in the `x` attribute on an object, I can use `self.x = 5` or (if I'm outside of a method) `o.x = 5`, assuming that the object is in `o`.\n",
    "\n",
    "But what about data that's not specific to one instance? What about data that we want to share across instances, and keep track of for all of the class?"
   ]
  },
  {
   "cell_type": "markdown",
   "metadata": {},
   "source": [
    "# Scenario: Population\n",
    "\n",
    "Let's say that my `Person` class is a big hit. My boss is delighted, but we have a new request from our biggest client: They want to know, at any given time, how many instances of `Person` we have created."
   ]
  },
  {
   "cell_type": "code",
   "execution_count": 39,
   "metadata": {},
   "outputs": [],
   "source": [
    "# solution 1: we know that every time we create a new instance, __init__ runs\n",
    "\n",
    "# maybe we can have a global variable, \"population\", and every time __init__ runs, it\n",
    "# increments that value by 1.\n",
    "\n",
    "population = 0\n",
    "\n",
    "class Person:                            # declaring/defining the Person class\n",
    "    def __init__(self, first, last):     # initialization method, taking self (our instance)\n",
    "                                         #   plus two additional arguments, assigned to first and last\n",
    "        self.first = first               # assign the value of the first parameter to the self.first attribute\n",
    "        self.last = last                 # assign the value of the last parameter to the self.last attribute\n",
    "        \n",
    "        population += 1\n",
    "\n",
    "\n",
    "    def fullname(self):                      # method definition: self contains the instance\n",
    "        return f'{self.first} {self.last}'   # our method retrieves self.first and self.last\n",
    "    \n",
    "    def __str__(self):                   # this is invoked when we run str() on our object, or print()\n",
    "        return f'Person with a name {self.first} {self.last}'\n",
    "        \n",
    "print(f'Before, population = {population}')\n",
    "person1 = Person('Joe', 'Smith')\n",
    "person2 = Person('Mary', 'Jones')\n",
    "print(f'Before, population = {population}')\n"
   ]
  },
  {
   "cell_type": "code",
   "execution_count": 40,
   "metadata": {},
   "outputs": [
    {
     "name": "stdout",
     "output_type": "stream",
     "text": [
      "Person with a name Joe Smith\n"
     ]
    }
   ],
   "source": [
    "print(person1)"
   ]
  },
  {
   "cell_type": "code",
   "execution_count": 41,
   "metadata": {},
   "outputs": [
    {
     "name": "stdout",
     "output_type": "stream",
     "text": [
      "Person with a name Mary Jones\n"
     ]
    }
   ],
   "source": [
    "print(person2)"
   ]
  },
  {
   "cell_type": "code",
   "execution_count": null,
   "metadata": {},
   "outputs": [],
   "source": []
  }
 ],
 "metadata": {
  "kernelspec": {
   "display_name": "Python 3 (ipykernel)",
   "language": "python",
   "name": "python3"
  },
  "language_info": {
   "codemirror_mode": {
    "name": "ipython",
    "version": 3
   },
   "file_extension": ".py",
   "mimetype": "text/x-python",
   "name": "python",
   "nbconvert_exporter": "python",
   "pygments_lexer": "ipython3",
   "version": "3.11.1"
  }
 },
 "nbformat": 4,
 "nbformat_minor": 4
}
