{
 "cells": [
  {
   "cell_type": "markdown",
   "metadata": {},
   "source": [
    "# Agenda\n",
    "\n",
    "1. Recap: The story so far\n",
    "2. Magic methods\n",
    "    - What are they?\n",
    "    - How do we call them?\n",
    "    - How do we define them?\n",
    "    - Why would we want them?\n",
    "3. Class attributes\n",
    "    - What are they?\n",
    "    - How do we define them?\n",
    "    - Why would we want them?\n",
    "4. ICPO rule for attribute lookup\n",
    "5. Inheritance\n",
    "    - What inheritance does\n",
    "    - Why we would want to use it\n",
    "    - How it is implemented in Python\n",
    "6. Three paradigms of method inheritance\n",
    "    - Do nothing\n",
    "    - Replace the parent method\n",
    "    - Combine the new method with the parent\n",
    "7. `object`, the top of our hierarchy \n",
    "8. Using and designing with objects\n",
    "    - How do I attack a problem using classes and objects?\n",
    "    - When are objects not an appropriate/best solution?"
   ]
  },
  {
   "cell_type": "markdown",
   "metadata": {},
   "source": [
    "# Magic commands vs. magic methods\n",
    "\n",
    "In Jupyter, we have some things we call \"magic commands.\" These are commands that aren't passed to Python, but rather are passed to Jupyter. They all start with `%`, because that's not a legal character in Python function and variable names.  \n",
    "\n",
    "It's true that in my online courses, I've been telling people to say `%pylab inline`, because that was a really easy way to do things... I recently discovered that this is now deprecated, and you should instead say `%matplotlib inline`.\n",
    "\n",
    "This has **NOTHING** to do with magic methods, which are special methods that we define on our classes, in order to get some desired behavior."
   ]
  },
  {
   "cell_type": "markdown",
   "metadata": {},
   "source": [
    "# Recap\n",
    "\n",
    "When we program with objects, we're creating new data types. Each new data type allows us to think at a higher level. The higher-level thinking is expressed with the following jargon:\n",
    "\n",
    "- Our new type is called a **class**\n",
    "- Every new object of this type is called an **instance**\n",
    "- The functions that we can run on our instances are called **methods**\n",
    "- The storage that we have on each instance is called an **attribute**."
   ]
  },
  {
   "cell_type": "code",
   "execution_count": 1,
   "metadata": {},
   "outputs": [
    {
     "data": {
      "text/plain": [
       "__main__.Person"
      ]
     },
     "execution_count": 1,
     "metadata": {},
     "output_type": "execute_result"
    }
   ],
   "source": [
    "class Person:                            # declaring/defining the Person class\n",
    "    def __init__(self, first, last):     # initialization method, taking self (our instance)\n",
    "                                         #   plus two additional arguments, assigned to first and last\n",
    "        self.first = first               # assign the value of the first parameter to the self.first attribute\n",
    "        self.last = last                 # assign the value of the last parameter to the self.last attribute\n",
    "        \n",
    "    def fullname(self):                      # method definition: self contains the instance\n",
    "        return f'{self.first} {self.last}'   # our method retrieves self.first and self.last\n",
    "        \n",
    "p = Person('Reuven', 'Lerner')           # this creates a new instance, then passes that to __init__\n",
    "\n",
    "type(p)   # what kind of object is p?"
   ]
  },
  {
   "cell_type": "code",
   "execution_count": 2,
   "metadata": {},
   "outputs": [
    {
     "data": {
      "text/plain": [
       "'Reuven'"
      ]
     },
     "execution_count": 2,
     "metadata": {},
     "output_type": "execute_result"
    }
   ],
   "source": [
    "p.first   # what is the first attribute on p?"
   ]
  },
  {
   "cell_type": "code",
   "execution_count": 3,
   "metadata": {},
   "outputs": [
    {
     "data": {
      "text/plain": [
       "'Lerner'"
      ]
     },
     "execution_count": 3,
     "metadata": {},
     "output_type": "execute_result"
    }
   ],
   "source": [
    "p.last    # what is the last attribute on p?"
   ]
  },
  {
   "cell_type": "code",
   "execution_count": 4,
   "metadata": {},
   "outputs": [
    {
     "data": {
      "text/plain": [
       "'Reuven Lerner'"
      ]
     },
     "execution_count": 4,
     "metadata": {},
     "output_type": "execute_result"
    }
   ],
   "source": [
    "p.fullname()   # I need parentheses, because this is a method call"
   ]
  },
  {
   "cell_type": "markdown",
   "metadata": {},
   "source": [
    "# Exercise: Cellphone call\n",
    "\n",
    "1. Define a new class, `Cellphone`, whose instances will have three attributes: \n",
    "    - Make\n",
    "    - Model\n",
    "    - Number\n",
    "2. Define a `call` method on the `Cellphone` class.  When you call a phone, it should return a string saying, \"Now calling NUMBER\".\n",
    "\n",
    "I should be able to say:\n",
    "\n",
    "```python\n",
    "p1 = Cellphone('Samsung', 'S20', '12345')\n",
    "print(p1.make)   # Samsung\n",
    "print(p1.model)  # S20\n",
    "print(p1.call()) # Calling 12345\n",
    "               \n",
    "p2 = Cellphone('Apple', 'iPhone 14', '67890')\n",
    "print(p2.make)   # Apple\n",
    "print(p2.model)  # iPhone 14\n",
    "print(p2.call()) # Calling 67890\n",
    "```"
   ]
  },
  {
   "cell_type": "markdown",
   "metadata": {},
   "source": [
    "# Naming conventions in Python\n",
    "\n",
    "- Variables, functions, and other \"identifiers\" are normally \"snake case\" -- meaning, all lower-case letters, with `_` (underscore) between words.\n",
    "- Class names are CamelCase -- meaning, an initial capital letter and capitals starting new words in the middle. Class names should be singular, not plural.\n",
    "- `ALL_CAPS` are for constants, even though Python doesn't really have constants\n",
    "- `_` at the start of a name means that it's to be treated as private, even though Python doesn't have private\n",
    "- `__` (double underscore) at the start and end of a name is special, or \"magic,\" leading to the name \"magic methods.\" You can do this whenever you want, but please don't!"
   ]
  },
  {
   "cell_type": "code",
   "execution_count": 5,
   "metadata": {},
   "outputs": [],
   "source": [
    "class Cellphone:\n",
    "\n",
    "    def __init__(self, make, model, number):\n",
    "        # what do we do in __init__? Assign to our attributes\n",
    "        self.make = make\n",
    "        self.model = model\n",
    "        self.number = number\n",
    "        \n",
    "    def call(self):\n",
    "        return f'Calling {self.number}'"
   ]
  },
  {
   "cell_type": "code",
   "execution_count": 6,
   "metadata": {},
   "outputs": [
    {
     "name": "stdout",
     "output_type": "stream",
     "text": [
      "Samsung\n",
      "S20\n",
      "Calling 12345\n",
      "Apple\n",
      "iPhone 14\n",
      "Calling 67890\n"
     ]
    }
   ],
   "source": [
    "p1 = Cellphone('Samsung', 'S20', '12345')\n",
    "print(p1.make)   # Samsung\n",
    "print(p1.model)  # S20\n",
    "print(p1.call()) # Calling 12345\n",
    "\n",
    "p2 = Cellphone('Apple', 'iPhone 14', '67890')\n",
    "print(p2.make)   # Apple\n",
    "print(p2.model)  # iPhone 14\n",
    "print(p2.call()) # Calling 67890"
   ]
  },
  {
   "cell_type": "markdown",
   "metadata": {},
   "source": [
    "# Magic methods\n",
    "\n",
    "What happens if I print my instance of `Person`?"
   ]
  },
  {
   "cell_type": "code",
   "execution_count": 8,
   "metadata": {},
   "outputs": [
    {
     "name": "stdout",
     "output_type": "stream",
     "text": [
      "<__main__.Person object at 0x110bdff10>\n"
     ]
    }
   ],
   "source": [
    "print(p)"
   ]
  },
  {
   "cell_type": "code",
   "execution_count": 9,
   "metadata": {},
   "outputs": [
    {
     "data": {
      "text/plain": [
       "{'first': 'Reuven', 'last': 'Lerner'}"
      ]
     },
     "execution_count": 9,
     "metadata": {},
     "output_type": "execute_result"
    }
   ],
   "source": [
    "vars(p)   # what are the attributes on our Person object?"
   ]
  },
  {
   "cell_type": "markdown",
   "metadata": {},
   "source": [
    "We can change how our objects look when they're printed by defining a special method, a *magic* method.\n",
    "\n",
    "Magic methods are also known as \"dunder methods,\" because their names all start and end with a \"double underscore.\" \n",
    "\n",
    "Typically, you do not want to be invoking magic methods on your own. Rather, you define them, and then expect Python the invoke them at appropriate times.\n",
    "\n",
    "For example, when we `print` an object, the `__str__` method is invoked.  If we haven't defined it, then Python has a default version that we invoked, instead.\n",
    "\n",
    "If we want to define our own version of `__str__`:\n",
    "- It should only have one parameter, `self`\n",
    "- It should return a string\n",
    "\n",
    "Beyond those two rules, `__str__` can do as much or as little as it wants."
   ]
  },
  {
   "cell_type": "code",
   "execution_count": 10,
   "metadata": {},
   "outputs": [],
   "source": [
    "# p == our Person, (me!)\n",
    "# p1 and p2 == our Cellphones"
   ]
  },
  {
   "cell_type": "code",
   "execution_count": 14,
   "metadata": {},
   "outputs": [
    {
     "data": {
      "text/plain": [
       "__main__.Person"
      ]
     },
     "execution_count": 14,
     "metadata": {},
     "output_type": "execute_result"
    }
   ],
   "source": [
    "class Person:                            # declaring/defining the Person class\n",
    "    def __init__(self, first, last):     # initialization method, taking self (our instance)\n",
    "                                         #   plus two additional arguments, assigned to first and last\n",
    "        self.first = first               # assign the value of the first parameter to the self.first attribute\n",
    "        self.last = last                 # assign the value of the last parameter to the self.last attribute\n",
    "        \n",
    "    def fullname(self):                      # method definition: self contains the instance\n",
    "        return f'{self.first} {self.last}'   # our method retrieves self.first and self.last\n",
    "    \n",
    "    def __str__(self):                   # this is invoked when we run str() on our object, or print()\n",
    "        return f'Person with a name {self.first} {self.last}'\n",
    "        \n",
    "one_person = Person('Reuven', 'Lerner')           # this creates a new instance, then passes that to __init__\n",
    "\n",
    "type(one_person)   # what kind of object is p?"
   ]
  },
  {
   "cell_type": "code",
   "execution_count": 15,
   "metadata": {},
   "outputs": [
    {
     "name": "stdout",
     "output_type": "stream",
     "text": [
      "Person with a name Reuven Lerner\n"
     ]
    }
   ],
   "source": [
    "print(one_person)"
   ]
  },
  {
   "cell_type": "markdown",
   "metadata": {},
   "source": [
    "# When do I call `__str__`?\n",
    "\n",
    "**NEVER**. You let Python call it for you, via `str` or `print` or a variety of other ways.\n",
    "\n",
    "# What other magic methods exist?\n",
    "\n",
    "One example: `__len__`, which is invoked when we call `len` on an object."
   ]
  },
  {
   "cell_type": "code",
   "execution_count": 16,
   "metadata": {},
   "outputs": [
    {
     "data": {
      "text/plain": [
       "5"
      ]
     },
     "execution_count": 16,
     "metadata": {},
     "output_type": "execute_result"
    }
   ],
   "source": [
    "len('abcde')   # call len on 'abcde', and should get 5"
   ]
  },
  {
   "cell_type": "code",
   "execution_count": 19,
   "metadata": {},
   "outputs": [
    {
     "ename": "TypeError",
     "evalue": "object of type 'Person' has no len()",
     "output_type": "error",
     "traceback": [
      "\u001b[0;31m---------------------------------------------------------------------------\u001b[0m",
      "\u001b[0;31mTypeError\u001b[0m                                 Traceback (most recent call last)",
      "Cell \u001b[0;32mIn [19], line 1\u001b[0m\n\u001b[0;32m----> 1\u001b[0m \u001b[38;5;28;43mlen\u001b[39;49m\u001b[43m(\u001b[49m\u001b[43mone_person\u001b[49m\u001b[43m)\u001b[49m   \u001b[38;5;66;03m# what will we get now?\u001b[39;00m\n",
      "\u001b[0;31mTypeError\u001b[0m: object of type 'Person' has no len()"
     ]
    }
   ],
   "source": [
    "len(one_person)   # what will we get now?"
   ]
  },
  {
   "cell_type": "markdown",
   "metadata": {},
   "source": [
    "The `len` builtin function, when called on an object, actually just looks for the `__len__` magic method.\n",
    "\n",
    "- If `__len__` exists on the object, then it is called, and the `len` function returns its value\n",
    "- If `__len__` does *not* exist, then we get an error.\n",
    "\n",
    "You should **NOT** ever call `__len__` directly.\n",
    "\n",
    "What should `__len__` return? It must return an integer. But what does that integer represent? That's up to you. Not every class has a reason to implement `__len__`."
   ]
  },
  {
   "cell_type": "code",
   "execution_count": 18,
   "metadata": {
    "scrolled": true
   },
   "outputs": [
    {
     "ename": "TypeError",
     "evalue": "object of type 'int' has no len()",
     "output_type": "error",
     "traceback": [
      "\u001b[0;31m---------------------------------------------------------------------------\u001b[0m",
      "\u001b[0;31mTypeError\u001b[0m                                 Traceback (most recent call last)",
      "Cell \u001b[0;32mIn [18], line 1\u001b[0m\n\u001b[0;32m----> 1\u001b[0m \u001b[38;5;28;43mlen\u001b[39;49m\u001b[43m(\u001b[49m\u001b[38;5;241;43m3\u001b[39;49m\u001b[43m)\u001b[49m  \n",
      "\u001b[0;31mTypeError\u001b[0m: object of type 'int' has no len()"
     ]
    }
   ],
   "source": [
    "len(3)  "
   ]
  },
  {
   "cell_type": "markdown",
   "metadata": {},
   "source": [
    "# Real uses of `__len__`\n",
    "\n",
    "1. A `Company` object whose len returns the number employees\n",
    "2. A `Network` object whose len returns the number of nodes on that network\n",
    "3. A `PrintQueue` object whose len returns the number of items waiting to be printed\n"
   ]
  },
  {
   "cell_type": "markdown",
   "metadata": {},
   "source": [
    "# Exercise: Magic cellphone methods\n",
    "\n",
    "1. Define `__str__` on `Cellphone`, so that it returns a string with all of the relevant information about the phone: Make, model, and number.\n",
    "2. Invoke it on each instance, to see that it works.\n",
    "3. Define `__len__` on `Cellphone`, and here, return the number of digits in the phone number. This is technically just fine, but obviously absurd as an actual implementation.\n",
    "\n"
   ]
  },
  {
   "cell_type": "markdown",
   "metadata": {},
   "source": [
    "# `_` (one underscore) vs. \"dunder\"\n",
    "\n",
    "If the method name starts with `_`, then it's considered private, that others shouldn't touch/use it. There is zero enforcement of this from Python. It's a convention.\n",
    "\n",
    "If the method name starts and ends with `__` (two underscores), then it's considered to be a \"dunder method,\" or a \"magic method.\" You can define any method you want to be a dunder method *but* only those that Python is looking for will actually have the magic effect. Typically, you don't want to invoke these methods on your own, but rather let Python do it for you."
   ]
  },
  {
   "cell_type": "code",
   "execution_count": null,
   "metadata": {},
   "outputs": [],
   "source": [
    "# if we were using tuples, we would say:\n",
    "\n",
    "p1 = ('Samsung', 'S20', '123456' )\n",
    "\n",
    "# but we're using objects, so we'll instead say\n",
    "\n",
    "p1 = Cellphone('Samsung', 'S20', '123456' )   # so these are arguments to the call to Cellphone"
   ]
  },
  {
   "cell_type": "markdown",
   "metadata": {},
   "source": [
    "# When do we use a single `_`?\n",
    "\n",
    "There are a few uses:\n",
    "\n",
    "- If you have an attribute that you don't want people to read from or write to, start its name with `_`. For example: `_password`, or `_crypto_key`, or something else that maybe people can read from, but you definitely want to discourage them from writing to.\n",
    "\n",
    "- If you have a method that you might change in the future, and you don't want people to use lest they have problems when they upgrade, you can start its name with `_`.\n",
    "\n",
    "- You can also use a `_` by itself as a variable name for a temporary variable.  I personally almost never do this, but many people do."
   ]
  },
  {
   "cell_type": "markdown",
   "metadata": {},
   "source": [
    "You defined  the method `__init`  with two underscores at the start, but none at the end.\n",
    "\n",
    "The dunder methods all have double underscores on **BOTH** sides of the name."
   ]
  },
  {
   "cell_type": "code",
   "execution_count": 24,
   "metadata": {},
   "outputs": [],
   "source": [
    "class Cellphone:\n",
    "\n",
    "    def __init__(self, make, model, number):\n",
    "        self.make = make\n",
    "        self.model = model\n",
    "        self.number = number\n",
    "        \n",
    "    def call(self):\n",
    "        return f'Calling {self.number}'\n",
    "    \n",
    "    def __str__(self):  # __str__ only takes self, and returns a string\n",
    "        return f'{self.make} {self.model}: {self.number}'    \n",
    "    \n",
    "    def __len__(self):\n",
    "        return len(self.number)"
   ]
  },
  {
   "cell_type": "code",
   "execution_count": 25,
   "metadata": {},
   "outputs": [
    {
     "name": "stdout",
     "output_type": "stream",
     "text": [
      "Samsung\n",
      "S20\n",
      "Calling 12345\n",
      "Apple\n",
      "iPhone 14\n",
      "Calling 67890\n"
     ]
    }
   ],
   "source": [
    "cellphone1 = Cellphone('Samsung', 'S20', '12345')\n",
    "print(cellphone1.make)   # Samsung\n",
    "print(cellphone1.model)  # S20\n",
    "print(cellphone1.call()) # Calling 12345\n",
    "\n",
    "cellphone2 = Cellphone('Apple', 'iPhone 14', '67890')\n",
    "print(cellphone2.make)   # Apple\n",
    "print(cellphone2.model)  # iPhone 14\n",
    "print(cellphone2.call()) # Calling 67890"
   ]
  },
  {
   "cell_type": "code",
   "execution_count": 26,
   "metadata": {},
   "outputs": [
    {
     "name": "stdout",
     "output_type": "stream",
     "text": [
      "Samsung S20: 12345\n"
     ]
    }
   ],
   "source": [
    "print(cellphone1)"
   ]
  },
  {
   "cell_type": "code",
   "execution_count": 27,
   "metadata": {},
   "outputs": [
    {
     "name": "stdout",
     "output_type": "stream",
     "text": [
      "Apple iPhone 14: 67890\n"
     ]
    }
   ],
   "source": [
    "print(cellphone2)"
   ]
  },
  {
   "cell_type": "code",
   "execution_count": 28,
   "metadata": {},
   "outputs": [
    {
     "data": {
      "text/plain": [
       "5"
      ]
     },
     "execution_count": 28,
     "metadata": {},
     "output_type": "execute_result"
    }
   ],
   "source": [
    "len(cellphone1)  # how long is this phone's number?"
   ]
  },
  {
   "cell_type": "code",
   "execution_count": 29,
   "metadata": {},
   "outputs": [
    {
     "data": {
      "text/plain": [
       "5"
      ]
     },
     "execution_count": 29,
     "metadata": {},
     "output_type": "execute_result"
    }
   ],
   "source": [
    "len(cellphone2)"
   ]
  },
  {
   "cell_type": "code",
   "execution_count": 30,
   "metadata": {},
   "outputs": [
    {
     "data": {
      "text/plain": [
       "False"
      ]
     },
     "execution_count": 30,
     "metadata": {},
     "output_type": "execute_result"
    }
   ],
   "source": [
    "# what if I want to know if two cellphones are the same?\n",
    "\n",
    "cellphone1 == cellphone2"
   ]
  },
  {
   "cell_type": "code",
   "execution_count": 31,
   "metadata": {},
   "outputs": [
    {
     "name": "stdout",
     "output_type": "stream",
     "text": [
      "Apple\n",
      "iPhone 14\n",
      "Calling 67890\n"
     ]
    }
   ],
   "source": [
    "# cellphone 3 will be *exactly* the same as cellphone2 -- same make, model, and number\n",
    "\n",
    "cellphone3 = Cellphone('Apple', 'iPhone 14', '67890')\n",
    "print(cellphone3.make)   # Apple\n",
    "print(cellphone3.model)  # iPhone 14\n",
    "print(cellphone3.call()) # Calling 67890"
   ]
  },
  {
   "cell_type": "code",
   "execution_count": 33,
   "metadata": {},
   "outputs": [
    {
     "data": {
      "text/plain": [
       "False"
      ]
     },
     "execution_count": 33,
     "metadata": {},
     "output_type": "execute_result"
    }
   ],
   "source": [
    "# are these two phones considered equal?\n",
    "cellphone2 == cellphone3"
   ]
  },
  {
   "cell_type": "code",
   "execution_count": 34,
   "metadata": {},
   "outputs": [],
   "source": [
    "# why not? Because when we use ==, a magic method is invoked\n",
    "# it's the __eq__ method, which takes *two* arguments\n",
    "# - self is the thing on the left\n",
    "# - the 2nd argument (other) is the thing on the right\n",
    "\n",
    "class Cellphone:\n",
    "\n",
    "    def __init__(self, make, model, number):\n",
    "        self.make = make\n",
    "        self.model = model\n",
    "        self.number = number\n",
    "        \n",
    "    def call(self):\n",
    "        return f'Calling {self.number}'\n",
    "    \n",
    "    # we get to decide what str() does on a cellphone\n",
    "    def __str__(self):  # __str__ only takes self, and returns a string\n",
    "        return f'{self.make} {self.model}: {self.number}'    \n",
    "    \n",
    "    # we get to decide what len() does on a cellphone\n",
    "    def __len__(self):\n",
    "        return len(self.number)\n",
    "    \n",
    "    # we get to decide what == does when given two cellphones\n",
    "    def __eq__(self, other):\n",
    "        return vars(self) == vars(other)   # is the dict of attributes for self the same as the dict for other?"
   ]
  },
  {
   "cell_type": "code",
   "execution_count": 35,
   "metadata": {},
   "outputs": [],
   "source": [
    "cellphone1 = Cellphone('Samsung', 'S20', '12345')\n",
    "cellphone2 = Cellphone('Apple', 'iPhone 14', '67890')\n",
    "cellphone3 = Cellphone('Apple', 'iPhone 14', '67890')"
   ]
  },
  {
   "cell_type": "code",
   "execution_count": 36,
   "metadata": {},
   "outputs": [
    {
     "data": {
      "text/plain": [
       "False"
      ]
     },
     "execution_count": 36,
     "metadata": {},
     "output_type": "execute_result"
    }
   ],
   "source": [
    "cellphone1 == cellphone2"
   ]
  },
  {
   "cell_type": "code",
   "execution_count": 37,
   "metadata": {},
   "outputs": [
    {
     "data": {
      "text/plain": [
       "True"
      ]
     },
     "execution_count": 37,
     "metadata": {},
     "output_type": "execute_result"
    }
   ],
   "source": [
    "cellphone2 == cellphone3"
   ]
  },
  {
   "cell_type": "markdown",
   "metadata": {},
   "source": [
    "Magic methods allow us to create objects that fit into the existing idioms of Python. We want to use `==` to compare two different objects, and `__eq__`, if defined, lets us do that.\n",
    "\n",
    "There are dozens of magic methods, each associated with a different type of functionality in Python:\n",
    "\n",
    "- If I want my object to handle `[]`, I can define `__getitem__`\n",
    "- If I want my object to handle `<`, I can define `__lt__`\n",
    "- If want my object to know how to behave inside of a `with` block, I can define `__enter__`\n",
    "\n",
    "There are tons of magic methods, and each is invoked automatically by Python behind the scenes.\n",
    "\n",
    "You don't have to define them, but the more that are defined, the more your classes will feel more Pythonic."
   ]
  },
  {
   "cell_type": "markdown",
   "metadata": {},
   "source": [
    "My Euro Python talk, How to sort anything: https://www.youtube.com/watch?v=Z3c2LvEJeu0"
   ]
  },
  {
   "cell_type": "markdown",
   "metadata": {},
   "source": [
    "# Next up\n",
    "\n",
    "- Class attributes\n",
    "- ICPO -- how attributes are searched for in Python\n",
    "\n",
    "Return at :44\n",
    "\n",
    "## START RECORDING"
   ]
  },
  {
   "cell_type": "markdown",
   "metadata": {},
   "source": [
    "Magic methods: https://rszalski.github.io/magicmethods/"
   ]
  },
  {
   "cell_type": "code",
   "execution_count": 38,
   "metadata": {},
   "outputs": [],
   "source": [
    "# could I define __reuven__? Yeah, but Python won't ever invoke it... which is the point of a magic method"
   ]
  },
  {
   "cell_type": "markdown",
   "metadata": {},
   "source": [
    "# Class attributes\n",
    "\n",
    "We've seen that when we want to store information on an object, we do it with an attribute. Names, models, scoops of ice cream... all of these are stored in attributes, which always come after a `.` on the object.\n",
    "\n",
    "If I want to store 5 in the `x` attribute on an object, I can use `self.x = 5` or (if I'm outside of a method) `o.x = 5`, assuming that the object is in `o`.\n",
    "\n",
    "But what about data that's not specific to one instance? What about data that we want to share across instances, and keep track of for all of the class?"
   ]
  },
  {
   "cell_type": "markdown",
   "metadata": {},
   "source": [
    "# Scenario: Population\n",
    "\n",
    "Let's say that my `Person` class is a big hit. My boss is delighted, but we have a new request from our biggest client: They want to know, at any given time, how many instances of `Person` we have created."
   ]
  },
  {
   "cell_type": "code",
   "execution_count": 43,
   "metadata": {},
   "outputs": [
    {
     "name": "stdout",
     "output_type": "stream",
     "text": [
      "Before, population = 0\n",
      "After, population = 2\n"
     ]
    }
   ],
   "source": [
    "# solution 1: we know that every time we create a new instance, __init__ runs\n",
    "\n",
    "# maybe we can have a global variable, \"population\", and every time __init__ runs, it\n",
    "# increments that value by 1.\n",
    "\n",
    "population = 0\n",
    "\n",
    "class Person:                            # declaring/defining the Person class\n",
    "    def __init__(self, first, last):     # initialization method, taking self (our instance)\n",
    "                                         #   plus two additional arguments, assigned to first and last\n",
    "        self.first = first               # assign the value of the first parameter to the self.first attribute\n",
    "        self.last = last                 # assign the value of the last parameter to the self.last attribute\n",
    "        \n",
    "        global population                # we want to set a variable that's global\n",
    "        population += 1\n",
    "\n",
    "\n",
    "    def fullname(self):                      # method definition: self contains the instance\n",
    "        return f'{self.first} {self.last}'   # our method retrieves self.first and self.last\n",
    "    \n",
    "    def __str__(self):                   # this is invoked when we run str() on our object, or print()\n",
    "        return f'Person with a name {self.first} {self.last}'\n",
    "        \n",
    "print(f'Before, population = {population}')\n",
    "person1 = Person('Joe', 'Smith')\n",
    "person2 = Person('Mary', 'Jones')\n",
    "print(f'After, population = {population}')"
   ]
  },
  {
   "cell_type": "code",
   "execution_count": 44,
   "metadata": {},
   "outputs": [
    {
     "name": "stdout",
     "output_type": "stream",
     "text": [
      "Person with a name Joe Smith\n"
     ]
    }
   ],
   "source": [
    "print(person1)"
   ]
  },
  {
   "cell_type": "code",
   "execution_count": 45,
   "metadata": {},
   "outputs": [
    {
     "name": "stdout",
     "output_type": "stream",
     "text": [
      "Person with a name Mary Jones\n"
     ]
    }
   ],
   "source": [
    "print(person2)"
   ]
  },
  {
   "cell_type": "markdown",
   "metadata": {},
   "source": [
    "Remember that everything in Python is an object. This means that everything has:\n",
    "\n",
    "- A class\n",
    "- Attributes\n",
    "\n",
    "We know that strings do (class `str`, and lots of attributes).\n",
    "\n",
    "We know that lists do (class `list`, and lots of attributes).\n",
    "\n",
    "Perhaps we want to store the current population on an instance of `Person`, such as `person1` or `person2`.  ... but that doesn't make sense.  We want the population count to be in a central location.\n",
    "\n",
    "Would it be natural for the number of cars manufactured at a factory to be stored on one of those cars? Or rather in the factory itself? I think we'll agree that the factory is a more reasonable place.\n",
    "\n",
    "How can we assign things to our factory? That would mean having an attribute on the class.\n",
    "\n",
    "That's exactly what we're going to do.  We're going to create an attribute named `population` on the `Person` class. Just as we can retrieve and set attributes on an instance, we can retrieve and set attributes on a class.  That's because *classes are objects, too*!"
   ]
  },
  {
   "cell_type": "code",
   "execution_count": 46,
   "metadata": {},
   "outputs": [
    {
     "name": "stdout",
     "output_type": "stream",
     "text": [
      "Before, Person.population = 0\n",
      "After, Person.population = 2\n"
     ]
    }
   ],
   "source": [
    "\n",
    "class Person:                            # declaring/defining the Person class\n",
    "\n",
    "    population = 0                       # this sets the attribute population on Person\n",
    "                                         # **NOT** a global variable! It's Person.population\n",
    "\n",
    "                                         # but we cannot say Person.population inside of the class,\n",
    "                                         # before it is fully defined.\n",
    "\n",
    "\n",
    "\n",
    "    def __init__(self, first, last):     # initialization method, taking self (our instance)\n",
    "                                         #   plus two additional arguments, assigned to first and last\n",
    "        self.first = first               # assign the value of the first parameter to the self.first attribute\n",
    "        self.last = last                 # assign the value of the last parameter to the self.last attribute\n",
    "        \n",
    "        Person.population += 1           # add 1 to the current value of Person.population\n",
    "\n",
    "\n",
    "    def fullname(self):                      # method definition: self contains the instance\n",
    "        return f'{self.first} {self.last}'   # our method retrieves self.first and self.last\n",
    "    \n",
    "    def __str__(self):                   # this is invoked when we run str() on our object, or print()\n",
    "        return f'Person with a name {self.first} {self.last}'\n",
    "        \n",
    "print(f'Before, Person.population = {Person.population}')\n",
    "person1 = Person('Joe', 'Smith')\n",
    "person2 = Person('Mary', 'Jones')\n",
    "print(f'After, Person.population = {Person.population}')"
   ]
  },
  {
   "cell_type": "code",
   "execution_count": 47,
   "metadata": {},
   "outputs": [
    {
     "data": {
      "text/plain": [
       "2"
      ]
     },
     "execution_count": 47,
     "metadata": {},
     "output_type": "execute_result"
    }
   ],
   "source": [
    "Person.population"
   ]
  },
  {
   "cell_type": "code",
   "execution_count": 48,
   "metadata": {},
   "outputs": [],
   "source": [
    "Person.population = 20"
   ]
  },
  {
   "cell_type": "code",
   "execution_count": 49,
   "metadata": {},
   "outputs": [
    {
     "data": {
      "text/plain": [
       "20"
      ]
     },
     "execution_count": 49,
     "metadata": {},
     "output_type": "execute_result"
    }
   ],
   "source": [
    "Person.population"
   ]
  },
  {
   "cell_type": "markdown",
   "metadata": {},
   "source": [
    "# Where do we use class attributes?\n",
    "\n",
    "- When we have a counter, sort of like `population`, that doesn't belong on a single instance\n",
    "- If we have a shared resource, like a balance, that we want to keep in the class, rather than the instances\n",
    "\n",
    "But there is a much more common example of class attribute: Methods.\n",
    "\n",
    "Methods are actually class attributes. They are stored on the class. "
   ]
  },
  {
   "cell_type": "markdown",
   "metadata": {},
   "source": [
    "# Keeping track of state\n",
    "\n",
    "In this case, I have a `Person` class, and several instances of `Person`, as well.\n",
    "\n",
    "Each instance has several attributes: `first` and `last`\n",
    "\n",
    "The class has one data attribute, `population`, but three methods (`__init__`, `__str__`, and `fullname`), all of which are also attributes stored on the class.\n",
    "\n",
    "This raises a question: We know that I can get to the class attribute via the class.  But can I get to the class attribute via an instance?\n",
    "\n",
    "In other words: If I ask for `person1.population`, even though I know that `population` is **NOT** on `person1`, will I get a value?"
   ]
  },
  {
   "cell_type": "code",
   "execution_count": 50,
   "metadata": {},
   "outputs": [
    {
     "data": {
      "text/plain": [
       "20"
      ]
     },
     "execution_count": 50,
     "metadata": {},
     "output_type": "execute_result"
    }
   ],
   "source": [
    "# what happens?\n",
    "\n",
    "person1.population"
   ]
  },
  {
   "cell_type": "code",
   "execution_count": 51,
   "metadata": {},
   "outputs": [
    {
     "data": {
      "text/plain": [
       "20"
      ]
     },
     "execution_count": 51,
     "metadata": {},
     "output_type": "execute_result"
    }
   ],
   "source": [
    "person2.population"
   ]
  },
  {
   "cell_type": "markdown",
   "metadata": {},
   "source": [
    "# Attribute lookup, aka the ICPO rule\n",
    "\n",
    "- Instance\n",
    "- Class\n",
    "- (Parent)\n",
    "- (`object`)\n",
    "\n",
    "If I ask any object in Python if has an attribute:\n",
    "\n",
    "- If it does, then it returns the value.\n",
    "- If it doesn't, then Python next checks on that object's class.\n",
    "\n",
    "In other words, when we asked `person1` for `population`, it said: I don't have an attribute `population`.\n",
    "\n",
    "Python didn't take \"no\" for an answer, and asked `person1`'s class, `Person`. And `Person` does have an attribute `population`, which we were able to retrieve.\n",
    "\n",
    "Why does this happen? Because methods are class attributes, stored on the class.\n",
    "\n",
    "- Methods are stored on classes\n",
    "- We invoke them (typically) via instances\n",
    "- This is only possible because of the search that Python does, first on the instance then on the class"
   ]
  },
  {
   "cell_type": "markdown",
   "metadata": {},
   "source": [
    "# Exercise: StockShare\n",
    "\n",
    "1. Define a class, `StockShare`, that allows us to create new stock for a company. Which company? Actually, this class will let us create shares for any company we want.\n",
    "2. When we create an instance of `StockShare`, we indicate for what company the new stock should be issued.  (We'll get one share per instance.)\n",
    "3. However, if/when we already have 10 shares for a given company, then we'll get an error instead of a new share for that company.\n",
    "\n",
    "Example:\n",
    "\n",
    "```\n",
    "ibm1 = StockShare('IBM')  # this produces one share of IBM\n",
    "ibm2 = StockShare('IBM')  # this produces one more share of IBM\n",
    "\n",
    "# ... \n",
    "\n",
    "ibm11 = StockShare('IBM')  # this will result in an error, not in a new share being returned\n",
    "\n",
    "apple1 = StockShare('AAPL')  # this produces one share of Apple\n",
    "```\n",
    "\n",
    "How will we do this?\n",
    "\n",
    "- The `StockShare` class will have a class attribute, a *dictionary* called `issue_count`, that starts off empty. But when we start issuing shares for particular companies, it'll be updated to have the key be the symbol and the value be the number of shares issued so far.\n",
    "- In `__init__`, we should check to see how many shares have been issued for this company's stock so far\n",
    "- If >= 10 shares have been issued, then we should raise an exception, with `raise ValueError`\n",
    "- Demonstrate that you can get the `issue_count` dict from any instance of any stock."
   ]
  },
  {
   "cell_type": "code",
   "execution_count": 57,
   "metadata": {},
   "outputs": [],
   "source": [
    "# let's allow people to create instances of stock without limits\n",
    "\n",
    "class StockShare:\n",
    "    def __init__(self, symbol):\n",
    "        self.symbol = symbol\n",
    "        \n",
    "    def __str__(self):\n",
    "        return f'Share of {self.symbol}'\n",
    "        \n",
    "ibm1 = StockShare('IBM')        \n",
    "ibm2 = StockShare('IBM')   \n",
    "ibm3 = StockShare('IBM')   \n",
    "\n",
    "apple1 = StockShare('AAPL')        \n",
    "apple2 = StockShare('AAPL')   \n",
    "apple3 = StockShare('AAPL')   \n",
    "\n",
    "\n"
   ]
  },
  {
   "cell_type": "code",
   "execution_count": 61,
   "metadata": {},
   "outputs": [
    {
     "name": "stdout",
     "output_type": "stream",
     "text": [
      "Share of IBM\n",
      "Share of IBM\n",
      "Share of IBM\n"
     ]
    }
   ],
   "source": [
    "print(ibm1)\n",
    "print(ibm2)\n",
    "print(ibm3)"
   ]
  },
  {
   "cell_type": "code",
   "execution_count": 62,
   "metadata": {},
   "outputs": [
    {
     "name": "stdout",
     "output_type": "stream",
     "text": [
      "Share of AAPL\n",
      "Share of AAPL\n",
      "Share of AAPL\n"
     ]
    }
   ],
   "source": [
    "print(apple1)\n",
    "print(apple2)\n",
    "print(apple3)"
   ]
  },
  {
   "cell_type": "code",
   "execution_count": 64,
   "metadata": {},
   "outputs": [],
   "source": [
    "# now let's add a counter\n",
    "\n",
    "class StockShare:\n",
    "    # create a class attribute, issue_count -- a dict\n",
    "    issue_count = {}\n",
    "\n",
    "    def __init__(self, symbol):\n",
    "        self.symbol = symbol\n",
    "        \n",
    "        # is this a new symbol, that we haven't seen before? Add its key-value pair\n",
    "        if self.symbol not in StockShare.issue_count:\n",
    "            StockShare.issue_count[self.symbol] = 0\n",
    "            \n",
    "        StockShare.issue_count[self.symbol] += 1   # increment the value by 1\n",
    "        \n",
    "    def __str__(self):\n",
    "        return f'Share of {self.symbol}'\n",
    "        \n",
    "ibm1 = StockShare('IBM')        \n",
    "ibm2 = StockShare('IBM')   \n",
    "ibm3 = StockShare('IBM')   \n",
    "\n",
    "apple1 = StockShare('AAPL')        \n",
    "apple2 = StockShare('AAPL')   \n",
    "apple3 = StockShare('AAPL')   \n",
    "apple4 = StockShare('AAPL')   "
   ]
  },
  {
   "cell_type": "code",
   "execution_count": 65,
   "metadata": {},
   "outputs": [
    {
     "data": {
      "text/plain": [
       "{'IBM': 3, 'AAPL': 4}"
      ]
     },
     "execution_count": 65,
     "metadata": {},
     "output_type": "execute_result"
    }
   ],
   "source": [
    "StockShare.issue_count"
   ]
  },
  {
   "cell_type": "code",
   "execution_count": 66,
   "metadata": {},
   "outputs": [],
   "source": [
    "# now let's add limits\n",
    "\n",
    "class StockShare:\n",
    "    # create a class attribute, issue_count -- a dict\n",
    "    issue_count = {}\n",
    "\n",
    "    def __init__(self, symbol):\n",
    "        self.symbol = symbol\n",
    "        \n",
    "        # is this a new symbol, that we haven't seen before? Add its key-value pair\n",
    "        if self.symbol not in StockShare.issue_count:\n",
    "            StockShare.issue_count[self.symbol] = 0\n",
    "            \n",
    "        # add the limit -- raise an exception if we're over the max\n",
    "        if StockShare.issue_count[self.symbol] >= 10:\n",
    "            raise ValueError(f'Too many shares for {self.symbol}')\n",
    "\n",
    "        StockShare.issue_count[self.symbol] += 1   # increment the value by 1\n",
    "        \n",
    "    def __str__(self):\n",
    "        return f'Share of {self.symbol}'\n",
    "        \n",
    "ibm1 = StockShare('IBM')        \n",
    "ibm2 = StockShare('IBM')   \n",
    "ibm3 = StockShare('IBM')   \n",
    "\n",
    "apple1 = StockShare('AAPL')        \n",
    "apple2 = StockShare('AAPL')   \n",
    "apple3 = StockShare('AAPL')   \n",
    "apple4 = StockShare('AAPL')   "
   ]
  },
  {
   "cell_type": "code",
   "execution_count": 67,
   "metadata": {},
   "outputs": [
    {
     "data": {
      "text/plain": [
       "{'IBM': 3, 'AAPL': 4}"
      ]
     },
     "execution_count": 67,
     "metadata": {},
     "output_type": "execute_result"
    }
   ],
   "source": [
    "StockShare.issue_count"
   ]
  },
  {
   "cell_type": "code",
   "execution_count": 68,
   "metadata": {},
   "outputs": [
    {
     "ename": "ValueError",
     "evalue": "Too many shares for IBM",
     "output_type": "error",
     "traceback": [
      "\u001b[0;31m---------------------------------------------------------------------------\u001b[0m",
      "\u001b[0;31mValueError\u001b[0m                                Traceback (most recent call last)",
      "Cell \u001b[0;32mIn [68], line 4\u001b[0m\n\u001b[1;32m      1\u001b[0m \u001b[38;5;66;03m# let's issue a lot of new IBM shares\u001b[39;00m\n\u001b[1;32m      3\u001b[0m \u001b[38;5;28;01mfor\u001b[39;00m i \u001b[38;5;129;01min\u001b[39;00m \u001b[38;5;28mrange\u001b[39m(\u001b[38;5;241m10\u001b[39m):\n\u001b[0;32m----> 4\u001b[0m     \u001b[43mStockShare\u001b[49m\u001b[43m(\u001b[49m\u001b[38;5;124;43m'\u001b[39;49m\u001b[38;5;124;43mIBM\u001b[39;49m\u001b[38;5;124;43m'\u001b[39;49m\u001b[43m)\u001b[49m\n",
      "Cell \u001b[0;32mIn [66], line 16\u001b[0m, in \u001b[0;36mStockShare.__init__\u001b[0;34m(self, symbol)\u001b[0m\n\u001b[1;32m     14\u001b[0m \u001b[38;5;66;03m# add the limit -- raise an exception if we're over the max\u001b[39;00m\n\u001b[1;32m     15\u001b[0m \u001b[38;5;28;01mif\u001b[39;00m StockShare\u001b[38;5;241m.\u001b[39missue_count[\u001b[38;5;28mself\u001b[39m\u001b[38;5;241m.\u001b[39msymbol] \u001b[38;5;241m>\u001b[39m\u001b[38;5;241m=\u001b[39m \u001b[38;5;241m10\u001b[39m:\n\u001b[0;32m---> 16\u001b[0m     \u001b[38;5;28;01mraise\u001b[39;00m \u001b[38;5;167;01mValueError\u001b[39;00m(\u001b[38;5;124mf\u001b[39m\u001b[38;5;124m'\u001b[39m\u001b[38;5;124mToo many shares for \u001b[39m\u001b[38;5;132;01m{\u001b[39;00m\u001b[38;5;28mself\u001b[39m\u001b[38;5;241m.\u001b[39msymbol\u001b[38;5;132;01m}\u001b[39;00m\u001b[38;5;124m'\u001b[39m)\n\u001b[1;32m     18\u001b[0m StockShare\u001b[38;5;241m.\u001b[39missue_count[\u001b[38;5;28mself\u001b[39m\u001b[38;5;241m.\u001b[39msymbol] \u001b[38;5;241m+\u001b[39m\u001b[38;5;241m=\u001b[39m \u001b[38;5;241m1\u001b[39m\n",
      "\u001b[0;31mValueError\u001b[0m: Too many shares for IBM"
     ]
    }
   ],
   "source": [
    "# let's issue a lot of new IBM shares\n",
    "\n",
    "for i in range(10):\n",
    "    StockShare('IBM')"
   ]
  },
  {
   "cell_type": "code",
   "execution_count": 69,
   "metadata": {},
   "outputs": [
    {
     "data": {
      "text/plain": [
       "{'IBM': 10, 'AAPL': 4}"
      ]
     },
     "execution_count": 69,
     "metadata": {},
     "output_type": "execute_result"
    }
   ],
   "source": [
    "StockShare.issue_count"
   ]
  },
  {
   "cell_type": "markdown",
   "metadata": {},
   "source": [
    "# Next up:\n",
    "\n",
    "- Inheritance (continuing with ICPO lookup)\n",
    "- The 3 paradigms for method inheritance\n",
    "\n",
    "Resume at :44 \n",
    "\n",
    "## RESTART THE RECORDING"
   ]
  },
  {
   "cell_type": "markdown",
   "metadata": {},
   "source": [
    "# `__str__` vs. `__repr__`\n",
    "\n",
    "These two magic methods seem to do the same thing -- they both produce a string from our object. So, how are they different? When are they called?\n",
    "\n",
    "In theory:\n",
    "\n",
    "- `__str__` produces a string that's meant for end users to see\n",
    "- `__repr__` (\"representation\") produces a string that's meant for programmers to see internally. Moreover, `__repr__` is supposed to return a string that is legal Python code.\n",
    "\n",
    "Some other things to keep in mind:\n",
    "\n",
    "- If you define both `__str__` and `__repr__`, then `__str__` will be called when you invoke `print` or `str`, and `__repr__` will be invoked inside of Jupyter and debuggers\n",
    "- If you define only `__str__`, then inside of Jupyter and debuggers, you'll get the default, ugly `repr` output\n",
    "- **NOTE** If you define only `__repr__`, then it is used in place of both `__str__` and `__repr__`.  And so, I often tell people that it's OK to only define `__repr__`, because it covers all cases.  If/when you want to distinguish between `__str__` (for end users) and `__repr__` (for coders), then you can always add `__str__`. This is not what the core Python developers suggest, though."
   ]
  },
  {
   "cell_type": "code",
   "execution_count": 70,
   "metadata": {},
   "outputs": [
    {
     "data": {
      "text/plain": [
       "'Joe Smith'"
      ]
     },
     "execution_count": 70,
     "metadata": {},
     "output_type": "execute_result"
    }
   ],
   "source": [
    "person1.fullname()"
   ]
  },
  {
   "cell_type": "code",
   "execution_count": 71,
   "metadata": {},
   "outputs": [
    {
     "data": {
      "text/plain": [
       "'Joe Smith'"
      ]
     },
     "execution_count": 71,
     "metadata": {},
     "output_type": "execute_result"
    }
   ],
   "source": [
    "# the above was rewritten by Python, behind the scenes, to be\n",
    "\n",
    "Person.fullname(person1)  # this is how \"self\" is assigned to the value of person1"
   ]
  },
  {
   "cell_type": "markdown",
   "metadata": {},
   "source": [
    "# Inheritance\n",
    "\n",
    "What happens if I have two classes that are really similar to one another? Should I just copy the class that already exists, and then make minor adjustments on the new one?\n",
    "\n",
    "*NO*! Because then you're violating the rule of DRY -- don't repeat yourself.\n",
    "\n",
    "For example, let's assume that people love our `Person` class, and now want an `Employee` class that almost identical to it, except that employees have ID numbers, and regular ol' people don't.\n",
    "\n",
    "I'm also going to add a new method, `greet`, for our `Person` class."
   ]
  },
  {
   "cell_type": "code",
   "execution_count": 72,
   "metadata": {},
   "outputs": [
    {
     "name": "stdout",
     "output_type": "stream",
     "text": [
      "Hello, name1!\n",
      "Hello, name2!\n"
     ]
    }
   ],
   "source": [
    "class Person:\n",
    "    def __init__(self, name):\n",
    "        self.name = name\n",
    "        \n",
    "    def greet(self):\n",
    "        return f'Hello, {self.name}!'\n",
    "    \n",
    "    def __repr__(self):\n",
    "        return f'Person with name {self.name}'\n",
    "    \n",
    "person1 = Person('name1')\n",
    "person2 = Person('name2')\n",
    "\n",
    "print(person1.greet())\n",
    "print(person2.greet())"
   ]
  },
  {
   "cell_type": "code",
   "execution_count": 73,
   "metadata": {},
   "outputs": [
    {
     "name": "stdout",
     "output_type": "stream",
     "text": [
      "Hello, emp1!\n",
      "Hello, emp2!\n"
     ]
    }
   ],
   "source": [
    "# now, how can I create a new Employee class that's almost identical to Person?\n",
    "# option 1: copy everything and make small adjustments\n",
    "\n",
    "class Employee:\n",
    "    def __init__(self, name, id_number):\n",
    "        self.name = name\n",
    "        self.id_number = id_number\n",
    "        \n",
    "    def greet(self):\n",
    "        return f'Hello, {self.name}!'\n",
    "    \n",
    "    def __repr__(self):\n",
    "        return f'Person with name {self.name}'\n",
    "    \n",
    "emp1 = Employee('emp1', 1)\n",
    "emp2 = Employee('emp2', 2)\n",
    "\n",
    "print(emp1.greet())\n",
    "print(emp2.greet())"
   ]
  },
  {
   "cell_type": "code",
   "execution_count": 74,
   "metadata": {},
   "outputs": [
    {
     "data": {
      "text/plain": [
       "{'name': 'emp1', 'id_number': 1}"
      ]
     },
     "execution_count": 74,
     "metadata": {},
     "output_type": "execute_result"
    }
   ],
   "source": [
    "vars(emp1)"
   ]
  },
  {
   "cell_type": "code",
   "execution_count": 75,
   "metadata": {},
   "outputs": [
    {
     "data": {
      "text/plain": [
       "{'name': 'emp2', 'id_number': 2}"
      ]
     },
     "execution_count": 75,
     "metadata": {},
     "output_type": "execute_result"
    }
   ],
   "source": [
    "vars(emp2)"
   ]
  },
  {
   "cell_type": "markdown",
   "metadata": {},
   "source": [
    "# A better solution: Inheritance\n",
    "\n",
    "Instead of copying the `Person` class, and then making adjustments, what if we could just refer Python to it, and say, \"I'm just like him, but with some changes\"? That would make current code shorter, and future maintenance easier.\n",
    "\n",
    "Moreover, if I want to base my new class on something over which I have no authority, then I really need something that's better than copying.\n",
    "\n",
    "Inheritance means:\n",
    "\n",
    "- I have an existing class, which we'll call the \"parent class\" or \"superclass.\"\n",
    "- I have a new class that I want to write, which is very similar to the parent. We call this the \"child class\" or the \"subclass.\"\n",
    "- We say that the child inherits from the parent.\n",
    "\n",
    "When do we want to do this? Only when the child class is largely identical to the parent class.\n",
    "\n",
    "There are two types of relationships that we can talk about in the object world:\n",
    "\n",
    "- `has-a` relationship: One object contains another. A `Person` has-a `name`. An `Employee` has-a ID number.  In these cases, the relationship is one of ownership, or (as we say in the object world), composition. Composition is easily 10x more common than inheritance.\n",
    "- `is-a` relationship: One class is the same as another, with some small differences, and this is inheritance. It applies some of the time, but not as often as people would think or like."
   ]
  },
  {
   "cell_type": "code",
   "execution_count": 76,
   "metadata": {},
   "outputs": [
    {
     "name": "stdout",
     "output_type": "stream",
     "text": [
      "Hello, emp1!\n",
      "Hello, emp2!\n"
     ]
    }
   ],
   "source": [
    "# in this case, Employee *should* inherit from Person\n",
    "# option 2: redefine it\n",
    "\n",
    "class Employee(Person):     # here, we see that Employee inherits from Person\n",
    "    \n",
    "    def __init__(self, name, id_number):\n",
    "        self.name = name\n",
    "        self.id_number = id_number\n",
    "        \n",
    "    def greet(self):\n",
    "        return f'Hello, {self.name}!'\n",
    "    \n",
    "    def __repr__(self):\n",
    "        return f'Person with name {self.name}'\n",
    "    \n",
    "emp1 = Employee('emp1', 1)\n",
    "emp2 = Employee('emp2', 2)\n",
    "\n",
    "print(emp1.greet())\n",
    "print(emp2.greet())"
   ]
  },
  {
   "cell_type": "markdown",
   "metadata": {},
   "source": [
    "# What did we gain?\n",
    "\n",
    "We saw before that Python looks for attributes in a defined search path, which I call ICPO:\n",
    "\n",
    "- Instance\n",
    "- Class\n",
    "- Parent\n",
    "- `object`\n",
    "\n",
    "By the ICPO rule, what we mean is that if we ask for an attribute on an instance of `Employee`, and the attribute is not on the instance, then Python will search on the class, `Employee`.\n",
    "\n",
    "If the attribute is not `Employee`, then it goes to its parent -- namely, `Person`.\n",
    "\n",
    "In other words, what does inheritance mean in Python? We've told Python what class should be searched for our attribute if it isn't found on the subclass.\n",
    "\n",
    "Practically speaking, this means that if `Employee` inherits from `Person`, and if `Employee` has a method that is 100% the same as the method on `Person`, then we don't need to define it on `Employee`, because Python will go search in `Person` (the parent class) before giving up."
   ]
  },
  {
   "cell_type": "code",
   "execution_count": 77,
   "metadata": {},
   "outputs": [
    {
     "name": "stdout",
     "output_type": "stream",
     "text": [
      "Hello, emp1!\n",
      "Hello, emp2!\n"
     ]
    }
   ],
   "source": [
    "# option 2.5 -- inherit from Person, and take advantage of it by removing identical methods\n",
    "\n",
    "class Employee(Person):     # here, we see that Employee inherits from Person\n",
    "    \n",
    "    def __init__(self, name, id_number):\n",
    "        self.name = name\n",
    "        self.id_number = id_number\n",
    "        \n",
    "emp1 = Employee('emp1', 1)\n",
    "emp2 = Employee('emp2', 2)\n",
    "\n",
    "print(emp1.greet())\n",
    "print(emp2.greet())"
   ]
  },
  {
   "cell_type": "code",
   "execution_count": 78,
   "metadata": {},
   "outputs": [
    {
     "name": "stdout",
     "output_type": "stream",
     "text": [
      "Person with name emp1\n"
     ]
    }
   ],
   "source": [
    "print(emp1)"
   ]
  },
  {
   "cell_type": "code",
   "execution_count": 79,
   "metadata": {},
   "outputs": [
    {
     "name": "stdout",
     "output_type": "stream",
     "text": [
      "Person with name emp2\n"
     ]
    }
   ],
   "source": [
    "print(emp2)"
   ]
  },
  {
   "cell_type": "code",
   "execution_count": 83,
   "metadata": {
    "scrolled": true
   },
   "outputs": [
    {
     "name": "stdout",
     "output_type": "stream",
     "text": [
      "Hello, name1!\n",
      "Hello, name2!\n",
      "Hello, emp1!\n",
      "Hello, emp2!\n"
     ]
    }
   ],
   "source": [
    "class Person:\n",
    "    def __init__(self, name):\n",
    "        self.name = name\n",
    "        \n",
    "    def greet(self):\n",
    "        return f'Hello, {self.name}!'\n",
    "    \n",
    "    def __repr__(self):\n",
    "        return f'Person with name {self.name}'\n",
    "\n",
    "    \n",
    "class Employee(Person):    \n",
    "    \n",
    "    def __init__(self, name, id_number):\n",
    "        # self.name = name   # repeat the code from Person -- this will work, but .. yuck!\n",
    "\n",
    "        # Person.__init__(self, name)   # manually invoke __init__ on Person, thus setting the name\n",
    "        \n",
    "        # even better, we can use super(), which goes to the parent class and invokes its method\n",
    "        super().__init__(name)\n",
    "\n",
    "        self.id_number = id_number\n",
    "        \n",
    "    def __repr__(self):\n",
    "        return f'Employee named {self.name}, ID number {self.id_number}'\n",
    "        \n",
    "\n",
    "person1 = Person('name1')  # Python invokes Person.__init__\n",
    "person2 = Person('name2')  # Python invokes Person.__init__\n",
    "\n",
    "emp1 = Employee('emp1', 1) # Python invokes Employee.__init__\n",
    "emp2 = Employee('emp2', 2) # Python invokes Employee.__init__\n",
    "\n",
    "print(person1.greet())\n",
    "print(person2.greet())\n",
    "\n",
    "print(emp1.greet())\n",
    "print(emp2.greet())"
   ]
  },
  {
   "cell_type": "code",
   "execution_count": 84,
   "metadata": {
    "scrolled": true
   },
   "outputs": [
    {
     "name": "stdout",
     "output_type": "stream",
     "text": [
      "Person with name name1\n"
     ]
    }
   ],
   "source": [
    "print(person1)   # this runs Person.__repr__"
   ]
  },
  {
   "cell_type": "code",
   "execution_count": 86,
   "metadata": {},
   "outputs": [
    {
     "name": "stdout",
     "output_type": "stream",
     "text": [
      "Employee named emp1, ID number 1\n"
     ]
    }
   ],
   "source": [
    "print(emp1)      # this runs Employee.__repr__, and ignores Person.__repr__ completely"
   ]
  },
  {
   "cell_type": "markdown",
   "metadata": {},
   "source": [
    "# Three paradigms of method inheritance\n",
    "\n",
    "1. Do nothing: If the child class wants precisely the same method implementation as the parent class provides, then *don't define the method on the child class*, and the parent method will always run.\n",
    "2. Combine the parent method with child-specific functionality: Define the method on the child class, but invoke the parent's method as the first thing. Typically, this is best done with `super` on the first line of the child's method.\n",
    "3. Define a child method of the same name as in the parent class, and don't use `super`.  The child method does its own thing, and the parent method is ignored."
   ]
  },
  {
   "cell_type": "markdown",
   "metadata": {},
   "source": [
    "# Exercise: Special iPhone functionality\n",
    "\n",
    "Earlier today, we defined a `Cellphone` class. I now want you to define a new class, `IPhone`, which inherits from `Cellphone`.\n",
    "\n",
    "1. When initialized, it should be precisely the same as `Cellphone`, except that the `make` attribute is automatically set to `Apple`.\n",
    "2. It has a new, special method called `facetime`, which works the same as `call`, but returns a slightly different string.  Trying to invoke `facetime` on a regular `Cellphone` instance will result in the method not being found. But it'll work just fine on iPhones."
   ]
  },
  {
   "cell_type": "code",
   "execution_count": null,
   "metadata": {},
   "outputs": [],
   "source": []
  },
  {
   "cell_type": "code",
   "execution_count": 5,
   "metadata": {},
   "outputs": [],
   "source": [
    "class Cellphone:\n",
    "\n",
    "    def __init__(self, make, model, number):\n",
    "        # what do we do in __init__? Assign to our attributes\n",
    "        self.make = make\n",
    "        self.model = model\n",
    "        self.number = number\n",
    "        \n",
    "    def call(self):\n",
    "        return f'Calling {self.number}'"
   ]
  },
  {
   "cell_type": "code",
   "execution_count": 6,
   "metadata": {
    "scrolled": true
   },
   "outputs": [
    {
     "name": "stdout",
     "output_type": "stream",
     "text": [
      "Samsung\n",
      "S20\n",
      "Calling 12345\n",
      "Apple\n",
      "iPhone 14\n",
      "Calling 67890\n"
     ]
    }
   ],
   "source": [
    "p1 = Cellphone('Samsung', 'S20', '12345')\n",
    "print(p1.make)   # Samsung\n",
    "print(p1.model)  # S20\n",
    "print(p1.call()) # Calling 12345\n",
    "\n",
    "p2 = Cellphone('Apple', 'iPhone 14', '67890')\n",
    "print(p2.make)   # Apple\n",
    "print(p2.model)  # iPhone 14\n",
    "print(p2.call()) # Calling 67890"
   ]
  },
  {
   "cell_type": "code",
   "execution_count": 89,
   "metadata": {
    "scrolled": true
   },
   "outputs": [
    {
     "name": "stdout",
     "output_type": "stream",
     "text": [
      "Samsung\n",
      "S20\n",
      "Calling 12345\n",
      "Apple\n",
      "iPhone 14\n",
      "Calling 67890\n",
      "Facetiming 67890\n"
     ]
    }
   ],
   "source": [
    "class Cellphone:\n",
    "\n",
    "    def __init__(self, make, model, number):\n",
    "        self.make = make\n",
    "        self.model = model\n",
    "        self.number = number\n",
    "        \n",
    "    def call(self):\n",
    "        return f'Calling {self.number}'\n",
    "    \n",
    "class IPhone(Cellphone):\n",
    "    # combination paradigm for methods\n",
    "    def __init__(self, model, number):   # I don't need the make of an iPhone!   \n",
    "        super().__init__('Apple', model, number)\n",
    "        \n",
    "    # call -- do nothing paradigm for methods\n",
    "    \n",
    "    def facetime(self):\n",
    "        return f'Facetiming {self.number}'\n",
    "        \n",
    "p1 = Cellphone('Samsung', 'S20', '12345')\n",
    "print(p1.make)   # Samsung\n",
    "print(p1.model)  # S20\n",
    "print(p1.call()) # Calling 12345\n",
    "\n",
    "p2 = IPhone('iPhone 14', '67890')\n",
    "print(p2.make)   # Apple\n",
    "print(p2.model)  # iPhone 14\n",
    "print(p2.call()) # Calling 67890        \n",
    "print(p2.facetime()) # Calling 67890        "
   ]
  },
  {
   "cell_type": "code",
   "execution_count": 90,
   "metadata": {},
   "outputs": [
    {
     "data": {
      "text/plain": [
       "'ABCD'"
      ]
     },
     "execution_count": 90,
     "metadata": {},
     "output_type": "execute_result"
    }
   ],
   "source": [
    "s = 'abcd'\n",
    "s.upper()"
   ]
  },
  {
   "cell_type": "code",
   "execution_count": 91,
   "metadata": {},
   "outputs": [
    {
     "ename": "AttributeError",
     "evalue": "'list' object has no attribute 'upper'",
     "output_type": "error",
     "traceback": [
      "\u001b[0;31m---------------------------------------------------------------------------\u001b[0m",
      "\u001b[0;31mAttributeError\u001b[0m                            Traceback (most recent call last)",
      "Cell \u001b[0;32mIn [91], line 2\u001b[0m\n\u001b[1;32m      1\u001b[0m mylist \u001b[38;5;241m=\u001b[39m [\u001b[38;5;241m10\u001b[39m, \u001b[38;5;241m20\u001b[39m, \u001b[38;5;241m30\u001b[39m]\n\u001b[0;32m----> 2\u001b[0m \u001b[43mmylist\u001b[49m\u001b[38;5;241;43m.\u001b[39;49m\u001b[43mupper\u001b[49m()\n",
      "\u001b[0;31mAttributeError\u001b[0m: 'list' object has no attribute 'upper'"
     ]
    }
   ],
   "source": [
    "mylist = [10, 20, 30]\n",
    "mylist.upper()"
   ]
  },
  {
   "cell_type": "code",
   "execution_count": 94,
   "metadata": {},
   "outputs": [
    {
     "data": {
      "text/plain": [
       "True"
      ]
     },
     "execution_count": 94,
     "metadata": {},
     "output_type": "execute_result"
    }
   ],
   "source": [
    "hasattr(p2, 'facetime')"
   ]
  },
  {
   "cell_type": "markdown",
   "metadata": {},
   "source": [
    "# Next up\n",
    "\n",
    "- Completing the ICPO picture with `object`\n",
    "- Solving problems with classes and object-oriented design\n",
    "\n",
    "Resume at :39\n",
    "\n",
    "# RESUME RECORDING"
   ]
  },
  {
   "cell_type": "markdown",
   "metadata": {},
   "source": [
    "# What is `object`?\n",
    "\n",
    "Every single class in Python inherits from `object` -- unless it inherits from something else, which then eventually inherits from `object`.\n",
    "\n",
    "`object` is a class (even though it starts with a lowercase letter, demonstrating how old it is) that exists to be the top of our inheritance hierarchy.  It provides the final place where Python can search for attributes before giving up entirely.\n",
    "\n",
    "We can always find out the parent(s) of a class by looking at the `__bases__` attribute on a class object. This will always contain a tuple, and in most cases, it'll be a single-element tuple indicating the base class."
   ]
  },
  {
   "cell_type": "code",
   "execution_count": 95,
   "metadata": {},
   "outputs": [
    {
     "data": {
      "text/plain": [
       "(object,)"
      ]
     },
     "execution_count": 95,
     "metadata": {},
     "output_type": "execute_result"
    }
   ],
   "source": [
    "Cellphone.__bases__"
   ]
  },
  {
   "cell_type": "code",
   "execution_count": 96,
   "metadata": {},
   "outputs": [
    {
     "data": {
      "text/plain": [
       "(__main__.Cellphone,)"
      ]
     },
     "execution_count": 96,
     "metadata": {},
     "output_type": "execute_result"
    }
   ],
   "source": [
    "IPhone.__bases__"
   ]
  },
  {
   "cell_type": "code",
   "execution_count": 97,
   "metadata": {},
   "outputs": [
    {
     "data": {
      "text/plain": [
       "(object,)"
      ]
     },
     "execution_count": 97,
     "metadata": {},
     "output_type": "execute_result"
    }
   ],
   "source": [
    "Person.__bases__"
   ]
  },
  {
   "cell_type": "code",
   "execution_count": 98,
   "metadata": {},
   "outputs": [
    {
     "data": {
      "text/plain": [
       "(__main__.Person,)"
      ]
     },
     "execution_count": 98,
     "metadata": {},
     "output_type": "execute_result"
    }
   ],
   "source": [
    "Employee.__bases__"
   ]
  },
  {
   "cell_type": "code",
   "execution_count": 99,
   "metadata": {},
   "outputs": [
    {
     "data": {
      "text/plain": [
       "(object,)"
      ]
     },
     "execution_count": 99,
     "metadata": {},
     "output_type": "execute_result"
    }
   ],
   "source": [
    "str.__bases__"
   ]
  },
  {
   "cell_type": "code",
   "execution_count": 100,
   "metadata": {},
   "outputs": [
    {
     "data": {
      "text/plain": [
       "(object,)"
      ]
     },
     "execution_count": 100,
     "metadata": {},
     "output_type": "execute_result"
    }
   ],
   "source": [
    "int.__bases__"
   ]
  },
  {
   "cell_type": "code",
   "execution_count": 101,
   "metadata": {},
   "outputs": [
    {
     "data": {
      "text/plain": [
       "(object,)"
      ]
     },
     "execution_count": 101,
     "metadata": {},
     "output_type": "execute_result"
    }
   ],
   "source": [
    "dict.__bases__"
   ]
  },
  {
   "cell_type": "code",
   "execution_count": 102,
   "metadata": {},
   "outputs": [
    {
     "data": {
      "text/plain": [
       "bool"
      ]
     },
     "execution_count": 102,
     "metadata": {},
     "output_type": "execute_result"
    }
   ],
   "source": [
    "type(True)"
   ]
  },
  {
   "cell_type": "code",
   "execution_count": 103,
   "metadata": {},
   "outputs": [
    {
     "data": {
      "text/plain": [
       "bool"
      ]
     },
     "execution_count": 103,
     "metadata": {},
     "output_type": "execute_result"
    }
   ],
   "source": [
    "type(False)"
   ]
  },
  {
   "cell_type": "code",
   "execution_count": 104,
   "metadata": {},
   "outputs": [
    {
     "data": {
      "text/plain": [
       "(int,)"
      ]
     },
     "execution_count": 104,
     "metadata": {},
     "output_type": "execute_result"
    }
   ],
   "source": [
    "bool.__bases__"
   ]
  },
  {
   "cell_type": "code",
   "execution_count": 105,
   "metadata": {},
   "outputs": [
    {
     "data": {
      "text/plain": [
       "['__class__',\n",
       " '__delattr__',\n",
       " '__dir__',\n",
       " '__doc__',\n",
       " '__eq__',\n",
       " '__format__',\n",
       " '__ge__',\n",
       " '__getattribute__',\n",
       " '__getstate__',\n",
       " '__gt__',\n",
       " '__hash__',\n",
       " '__init__',\n",
       " '__init_subclass__',\n",
       " '__le__',\n",
       " '__lt__',\n",
       " '__ne__',\n",
       " '__new__',\n",
       " '__reduce__',\n",
       " '__reduce_ex__',\n",
       " '__repr__',\n",
       " '__setattr__',\n",
       " '__sizeof__',\n",
       " '__str__',\n",
       " '__subclasshook__']"
      ]
     },
     "execution_count": 105,
     "metadata": {},
     "output_type": "execute_result"
    }
   ],
   "source": [
    "# we can see all of the attributes on an object in Python with the \"dir\" function\n",
    "\n",
    "dir(object)"
   ]
  },
  {
   "cell_type": "code",
   "execution_count": 106,
   "metadata": {},
   "outputs": [],
   "source": [
    "class MyClass:\n",
    "    pass   # do nothing!"
   ]
  },
  {
   "cell_type": "code",
   "execution_count": 107,
   "metadata": {},
   "outputs": [],
   "source": [
    "mc = MyClass()  # instance of a do-nothing class"
   ]
  },
  {
   "cell_type": "code",
   "execution_count": 108,
   "metadata": {},
   "outputs": [
    {
     "name": "stdout",
     "output_type": "stream",
     "text": [
      "<__main__.MyClass object at 0x1110f1990>\n"
     ]
    }
   ],
   "source": [
    "print(mc)  # --> print(str(mc)) -> print(mc.__str__())"
   ]
  },
  {
   "cell_type": "code",
   "execution_count": 109,
   "metadata": {},
   "outputs": [
    {
     "data": {
      "text/plain": [
       "<__main__.MyClass at 0x1110f1990>"
      ]
     },
     "execution_count": 109,
     "metadata": {},
     "output_type": "execute_result"
    }
   ],
   "source": [
    "mc"
   ]
  },
  {
   "cell_type": "markdown",
   "metadata": {},
   "source": [
    "# ICPO rule\n",
    "\n",
    "Python looks for attributes in the following places:\n",
    "\n",
    "1. `I` -- on the instance. If the attribute is there, we stop the search. If not, we continue to...\n",
    "2. `C` -- the instance's class. If the attribute is there, we stop the search. If not, we continue to...\n",
    "3. `P` -- the class's parent. (This can be a multi-level search, if we have several layers of inheritance.) If the attribute is there, we stop. If not, we continue to...\n",
    "4. `O` -- `object`, the top of the hierarchy. If the attribute is not found here, we get an `AttributeError` exception."
   ]
  },
  {
   "cell_type": "code",
   "execution_count": 110,
   "metadata": {},
   "outputs": [
    {
     "data": {
      "text/plain": [
       "()"
      ]
     },
     "execution_count": 110,
     "metadata": {},
     "output_type": "execute_result"
    }
   ],
   "source": [
    "# how does Python know not to continue searching after object?\n",
    "\n",
    "object.__bases__   # who does object inherit from?"
   ]
  },
  {
   "cell_type": "markdown",
   "metadata": {},
   "source": [
    "# What is `__new__`?\n",
    "\n",
    "The `__init__` method is commonly thought to create new instances. But we know that this isn't the case, because `__init__` gets the new instance passed to it as `self`, its first parameter.\n",
    "\n",
    "So, who is actually invoking `__init__`? Another method known as `__new__`.  That's what *really* creates new objects. `__new__`, after creating a new instance, then invokes `__init__`, and invites it to add attributes to that instance.  \n",
    "\n",
    "That's why `__init__` doesn't need to return anything. It isn't being invoked for its return value. Rather, it's being invoked to add attributes to `self`.  When `__init__` returns, then `__new__` returns the modified new instance to the caller.\n",
    "\n",
    "When should you define `__new__`? **ALMOST NEVER**."
   ]
  },
  {
   "cell_type": "code",
   "execution_count": 111,
   "metadata": {},
   "outputs": [
    {
     "data": {
      "text/plain": [
       "(__main__.Person, object)"
      ]
     },
     "execution_count": 111,
     "metadata": {},
     "output_type": "execute_result"
    }
   ],
   "source": [
    "# the official Python documentation doesn't mention ICPO\n",
    "# rather, it talks about the MRO -- method resolution order\n",
    "# we can see this on classes\n",
    "\n",
    "Person.__mro__  # this shows the method resolution order for instances of Person"
   ]
  },
  {
   "cell_type": "code",
   "execution_count": 112,
   "metadata": {},
   "outputs": [
    {
     "data": {
      "text/plain": [
       "(__main__.Employee, __main__.Person, object)"
      ]
     },
     "execution_count": 112,
     "metadata": {},
     "output_type": "execute_result"
    }
   ],
   "source": [
    "Employee.__mro__"
   ]
  },
  {
   "cell_type": "code",
   "execution_count": 113,
   "metadata": {},
   "outputs": [
    {
     "data": {
      "text/plain": [
       "(__main__.Cellphone, object)"
      ]
     },
     "execution_count": 113,
     "metadata": {},
     "output_type": "execute_result"
    }
   ],
   "source": [
    "Cellphone.__mro__"
   ]
  },
  {
   "cell_type": "code",
   "execution_count": 114,
   "metadata": {},
   "outputs": [
    {
     "data": {
      "text/plain": [
       "(__main__.IPhone, __main__.Cellphone, object)"
      ]
     },
     "execution_count": 114,
     "metadata": {},
     "output_type": "execute_result"
    }
   ],
   "source": [
    "IPhone.__mro__"
   ]
  },
  {
   "cell_type": "markdown",
   "metadata": {},
   "source": [
    "# How do we solve problems with object-oriented programming?\n",
    "\n",
    "Objects are neat, but they're supposed to be helpful in solving problems.\n",
    "\n",
    "How can/should we use object-oriented programming to solve our problems?\n",
    "\n",
    "1. When you have a problem, consider what the data structures should be.  Each data structure will need its own type of class.\n",
    "    - Each class will have attributes, many of which will have instances of additional classes\n",
    "    - Each class will also need methods defined, to handle its functionality\n",
    "2. Consider their relationships\n",
    "    - What classes can inherit from others?\n",
    "    - What classes can contain (via composition) others?\n",
    "3. Consider what methods you need\n",
    "    - What methods are common to several classes, that might suggest inheritance?\n",
    "    - What methods will need to use special function parameters such as `*args` and `**kwargs`?\n",
    "    "
   ]
  },
  {
   "cell_type": "markdown",
   "metadata": {},
   "source": [
    "https://steve-yegge.blogspot.com/2006/03/execution-in-kingdom-of-nouns.html"
   ]
  },
  {
   "cell_type": "markdown",
   "metadata": {},
   "source": [
    "# Exercise: Bookstore\n",
    "\n",
    "1. Define a `Book` class. Each instance should have three attributes: `title`, `author`, and `price`.\n",
    "2. Define a `Shelf` class. Each instance has one attribute, a list called `books`.\n",
    "3. Define a `Bookstore` class. Each instance has one attribute, a list called `shelves`.\n",
    "4. Define several instances of `Book`. Define two instances of `Shelf`, and put the books on the shelves.\n",
    "5. Define an instance of `Bookstore`, and put the shelves in the store.\n",
    "6. Someone who really loves books, and hates bookstores, wants to buy our entire inventory. How much are all of the books on the shelves worth, in total?"
   ]
  },
  {
   "cell_type": "markdown",
   "metadata": {},
   "source": [
    "What data structures are we going to need?\n",
    "\n",
    "That'll tell us what classes we need.\n",
    "\n",
    "- `Book` class\n",
    "    - attributes\n",
    "        - `title`\n",
    "        - `author`\n",
    "        - `price`\n",
    "    - methods: (none)\n",
    "- `Shelf` class\n",
    "    - attributes:\n",
    "        - `books` (list of `Book` objects)\n",
    "    - methods: (none)\n",
    "- `Bookstore` class\n",
    "    - attributes:\n",
    "        - `shelves` (list of `Shelf` objects)\n",
    "    - methods: (none)\n"
   ]
  },
  {
   "cell_type": "code",
   "execution_count": null,
   "metadata": {},
   "outputs": [],
   "source": [
    "class Book:\n",
    "    def __init__(self, title, author, price):\n",
    "        self.title = title\n",
    "        self.author = author\n",
    "        self.price = price\n",
    "        \n",
    "class Shelf:\n",
    "    def __init__(self):\n",
    "        self.books = []    # list of books on the shelf\n",
    "        \n",
    "class Bookstore:\n",
    "    def __init__(self):\n",
    "        self.shelves = []   # list of shelves in the bookstore\n",
    "        \n",
    "# let's create some books!\n",
    "b1 = Book('title1')"
   ]
  }
 ],
 "metadata": {
  "kernelspec": {
   "display_name": "Python 3 (ipykernel)",
   "language": "python",
   "name": "python3"
  },
  "language_info": {
   "codemirror_mode": {
    "name": "ipython",
    "version": 3
   },
   "file_extension": ".py",
   "mimetype": "text/x-python",
   "name": "python",
   "nbconvert_exporter": "python",
   "pygments_lexer": "ipython3",
   "version": "3.11.1"
  }
 },
 "nbformat": 4,
 "nbformat_minor": 4
}
