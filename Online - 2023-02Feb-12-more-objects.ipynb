{
 "cells": [
  {
   "cell_type": "markdown",
   "metadata": {},
   "source": [
    "# Agenda\n",
    "\n",
    "1. Recap: The story so far\n",
    "2. Magic methods\n",
    "    - What are they?\n",
    "    - How do we call them?\n",
    "    - How do we define them?\n",
    "    - Why would we want them?\n",
    "3. Class attributes\n",
    "    - What are they?\n",
    "    - How do we define them?\n",
    "    - Why would we want them?\n",
    "4. ICPO rule for attribute lookup\n",
    "5. Inheritance\n",
    "    - What inheritance does\n",
    "    - Why we would want to use it\n",
    "    - How it is implemented in Python\n",
    "6. Three paradigms of method inheritance\n",
    "    - Do nothing\n",
    "    - Replace the parent method\n",
    "    - Combine the new method with the parent\n",
    "7. `object`, the top of our hierarchy \n",
    "8. Using and designing with objects\n",
    "    - How do I attack a problem using classes and objects?\n",
    "    - When are objects not an appropriate/best solution?"
   ]
  },
  {
   "cell_type": "markdown",
   "metadata": {},
   "source": [
    "# Magic commands vs. magic methods\n",
    "\n",
    "In Jupyter, we have some things we call \"magic commands.\" These are commands that aren't passed to Python, but rather are passed to Jupyter. They all start with `%`, because that's not a legal character in Python function and variable names.  \n",
    "\n",
    "It's true that in my online courses, I've been telling people to say `%pylab inline`, because that was a really easy way to do things... I recently discovered that this is now deprecated, and you should instead say `%matplotlib inline`.\n",
    "\n",
    "This has **NOTHING** to do with magic methods, which are special methods that we define on our classes, in order to get some desired behavior."
   ]
  },
  {
   "cell_type": "markdown",
   "metadata": {},
   "source": [
    "# Recap\n",
    "\n",
    "When we program with objects, we're creating new data types. Each new data type allows us to think at a higher level. The higher-level thinking is expressed with the following jargon:\n",
    "\n",
    "- Our new type is called a **class**\n",
    "- Every new object of this type is called an **instance**\n",
    "- The functions that we can run on our instances are called **methods**\n",
    "- The storage that we have on each instance is called an **attribute**."
   ]
  },
  {
   "cell_type": "code",
   "execution_count": 1,
   "metadata": {},
   "outputs": [
    {
     "data": {
      "text/plain": [
       "__main__.Person"
      ]
     },
     "execution_count": 1,
     "metadata": {},
     "output_type": "execute_result"
    }
   ],
   "source": [
    "class Person:                            # declaring/defining the Person class\n",
    "    def __init__(self, first, last):     # initialization method, taking self (our instance)\n",
    "                                         #   plus two additional arguments, assigned to first and last\n",
    "        self.first = first               # assign the value of the first parameter to the self.first attribute\n",
    "        self.last = last                 # assign the value of the last parameter to the self.last attribute\n",
    "        \n",
    "    def fullname(self):                      # method definition: self contains the instance\n",
    "        return f'{self.first} {self.last}'   # our method retrieves self.first and self.last\n",
    "        \n",
    "p = Person('Reuven', 'Lerner')           # this creates a new instance, then passes that to __init__\n",
    "\n",
    "type(p)   # what kind of object is p?"
   ]
  },
  {
   "cell_type": "code",
   "execution_count": 2,
   "metadata": {},
   "outputs": [
    {
     "data": {
      "text/plain": [
       "'Reuven'"
      ]
     },
     "execution_count": 2,
     "metadata": {},
     "output_type": "execute_result"
    }
   ],
   "source": [
    "p.first   # what is the first attribute on p?"
   ]
  },
  {
   "cell_type": "code",
   "execution_count": 3,
   "metadata": {},
   "outputs": [
    {
     "data": {
      "text/plain": [
       "'Lerner'"
      ]
     },
     "execution_count": 3,
     "metadata": {},
     "output_type": "execute_result"
    }
   ],
   "source": [
    "p.last    # what is the last attribute on p?"
   ]
  },
  {
   "cell_type": "code",
   "execution_count": 4,
   "metadata": {},
   "outputs": [
    {
     "data": {
      "text/plain": [
       "'Reuven Lerner'"
      ]
     },
     "execution_count": 4,
     "metadata": {},
     "output_type": "execute_result"
    }
   ],
   "source": [
    "p.fullname()   # I need parentheses, because this is a method call"
   ]
  },
  {
   "cell_type": "markdown",
   "metadata": {},
   "source": [
    "# Exercise: Cellphone call\n",
    "\n",
    "1. Define a new class, `Cellphone`, whose instances will have three attributes: \n",
    "    - Make\n",
    "    - Model\n",
    "    - Number\n",
    "2. Define a `call` method on the `Cellphone` class.  When you call a phone, it should return a string saying, \"Now calling NUMBER\".\n",
    "\n",
    "I should be able to say:\n",
    "\n",
    "```python\n",
    "p1 = Cellphone('Samsung', 'S20', '12345')\n",
    "print(p1.make)   # Samsung\n",
    "print(p1.model)  # S20\n",
    "print(p1.call()) # Calling 12345\n",
    "               \n",
    "p2 = Cellphone('Apple', 'iPhone 14', '67890')\n",
    "print(p2.make)   # Apple\n",
    "print(p2.model)  # iPhone 14\n",
    "print(p2.call()) # Calling 67890\n",
    "```"
   ]
  },
  {
   "cell_type": "markdown",
   "metadata": {},
   "source": [
    "# Naming conventions in Python\n",
    "\n",
    "- Variables, functions, and other \"identifiers\" are normally \"snake case\" -- meaning, all lower-case letters, with `_` (underscore) between words.\n",
    "- Class names are CamelCase -- meaning, an initial capital letter and capitals starting new words in the middle. Class names should be singular, not plural.\n",
    "- `ALL_CAPS` are for constants, even though Python doesn't really have constants\n",
    "- `_` at the start of a name means that it's to be treated as private, even though Python doesn't have private\n",
    "- `__` (double underscore) at the start and end of a name is special, or \"magic,\" leading to the name \"magic methods.\" You can do this whenever you want, but please don't!"
   ]
  },
  {
   "cell_type": "code",
   "execution_count": 5,
   "metadata": {},
   "outputs": [],
   "source": [
    "class Cellphone:\n",
    "\n",
    "    def __init__(self, make, model, number):\n",
    "        # what do we do in __init__? Assign to our attributes\n",
    "        self.make = make\n",
    "        self.model = model\n",
    "        self.number = number\n",
    "        \n",
    "    def call(self):\n",
    "        return f'Calling {self.number}'"
   ]
  },
  {
   "cell_type": "code",
   "execution_count": 6,
   "metadata": {},
   "outputs": [
    {
     "name": "stdout",
     "output_type": "stream",
     "text": [
      "Samsung\n",
      "S20\n",
      "Calling 12345\n",
      "Apple\n",
      "iPhone 14\n",
      "Calling 67890\n"
     ]
    }
   ],
   "source": [
    "p1 = Cellphone('Samsung', 'S20', '12345')\n",
    "print(p1.make)   # Samsung\n",
    "print(p1.model)  # S20\n",
    "print(p1.call()) # Calling 12345\n",
    "\n",
    "p2 = Cellphone('Apple', 'iPhone 14', '67890')\n",
    "print(p2.make)   # Apple\n",
    "print(p2.model)  # iPhone 14\n",
    "print(p2.call()) # Calling 67890"
   ]
  },
  {
   "cell_type": "markdown",
   "metadata": {},
   "source": [
    "# Magic methods\n",
    "\n",
    "What happens if I print my instance of `Person`?"
   ]
  },
  {
   "cell_type": "code",
   "execution_count": 8,
   "metadata": {},
   "outputs": [
    {
     "name": "stdout",
     "output_type": "stream",
     "text": [
      "<__main__.Person object at 0x110bdff10>\n"
     ]
    }
   ],
   "source": [
    "print(p)"
   ]
  },
  {
   "cell_type": "code",
   "execution_count": 9,
   "metadata": {},
   "outputs": [
    {
     "data": {
      "text/plain": [
       "{'first': 'Reuven', 'last': 'Lerner'}"
      ]
     },
     "execution_count": 9,
     "metadata": {},
     "output_type": "execute_result"
    }
   ],
   "source": [
    "vars(p)   # what are the attributes on our Person object?"
   ]
  },
  {
   "cell_type": "markdown",
   "metadata": {},
   "source": [
    "We can change how our objects look when they're printed by defining a special method, a *magic* method.\n",
    "\n",
    "Magic methods are also known as \"dunder methods,\" because their names all start and end with a \"double underscore.\" \n",
    "\n",
    "Typically, you do not want to be invoking magic methods on your own. Rather, you define them, and then expect Python the invoke them at appropriate times.\n",
    "\n",
    "For example, when we `print` an object, the `__str__` method is invoked.  If we haven't defined it, then Python has a default version that we invoked, instead.\n",
    "\n",
    "If we want to define our own version of `__str__`:\n",
    "- It should only have one parameter, `self`\n",
    "- It should return a string\n",
    "\n",
    "Beyond those two rules, `__str__` can do as much or as little as it wants."
   ]
  },
  {
   "cell_type": "code",
   "execution_count": 10,
   "metadata": {},
   "outputs": [],
   "source": [
    "# p == our Person, (me!)\n",
    "# p1 and p2 == our Cellphones"
   ]
  },
  {
   "cell_type": "code",
   "execution_count": null,
   "metadata": {},
   "outputs": [],
   "source": [
    "class Person:                            # declaring/defining the Person class\n",
    "    def __init__(self, first, last):     # initialization method, taking self (our instance)\n",
    "                                         #   plus two additional arguments, assigned to first and last\n",
    "        self.first = first               # assign the value of the first parameter to the self.first attribute\n",
    "        self.last = last                 # assign the value of the last parameter to the self.last attribute\n",
    "        \n",
    "    def fullname(self):                      # method definition: self contains the instance\n",
    "        return f'{self.first} {self.last}'   # our method retrieves self.first and self.last\n",
    "    \n",
    "    def __str__(self):\n",
    "        return f'Person with a name'\n",
    "        \n",
    "p = Person('Reuven', 'Lerner')           # this creates a new instance, then passes that to __init__\n",
    "\n",
    "type(p)   # what kind of object is p?"
   ]
  }
 ],
 "metadata": {
  "kernelspec": {
   "display_name": "Python 3 (ipykernel)",
   "language": "python",
   "name": "python3"
  },
  "language_info": {
   "codemirror_mode": {
    "name": "ipython",
    "version": 3
   },
   "file_extension": ".py",
   "mimetype": "text/x-python",
   "name": "python",
   "nbconvert_exporter": "python",
   "pygments_lexer": "ipython3",
   "version": "3.11.1"
  }
 },
 "nbformat": 4,
 "nbformat_minor": 4
}
