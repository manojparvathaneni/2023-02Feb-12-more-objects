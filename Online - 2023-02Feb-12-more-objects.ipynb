{
 "cells": [
  {
   "cell_type": "markdown",
   "metadata": {},
   "source": [
    "# Agenda\n",
    "\n",
    "1. Recap: The story so far\n",
    "2. Magic methods\n",
    "    - What are they?\n",
    "    - How do we call them?\n",
    "    - How do we define them?\n",
    "    - Why would we want them?\n",
    "3. Class attributes\n",
    "    - What are they?\n",
    "    - How do we define them?\n",
    "    - Why would we want them?\n",
    "4. ICPO rule for attribute lookup\n",
    "5. Inheritance\n",
    "    - What inheritance does\n",
    "    - Why we would want to use it\n",
    "    - How it is implemented in Python\n",
    "6. Three paradigms of method inheritance\n",
    "    - Do nothing\n",
    "    - Replace the parent method\n",
    "    - Combine the new method with the parent\n",
    "7. `object`, the top of our hierarchy \n",
    "8. Using and designing with objects\n",
    "    - How do I attack a problem using classes and objects?\n",
    "    - When are objects not an appropriate/best solution?"
   ]
  },
  {
   "cell_type": "code",
   "execution_count": null,
   "metadata": {},
   "outputs": [],
   "source": []
  }
 ],
 "metadata": {
  "kernelspec": {
   "display_name": "Python 3 (ipykernel)",
   "language": "python",
   "name": "python3"
  },
  "language_info": {
   "codemirror_mode": {
    "name": "ipython",
    "version": 3
   },
   "file_extension": ".py",
   "mimetype": "text/x-python",
   "name": "python",
   "nbconvert_exporter": "python",
   "pygments_lexer": "ipython3",
   "version": "3.11.1"
  }
 },
 "nbformat": 4,
 "nbformat_minor": 4
}
